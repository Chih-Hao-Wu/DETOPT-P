{
 "cells": [
  {
   "cell_type": "markdown",
   "metadata": {},
   "source": [
    "**Robinson Foulds (RF) distance** to quantify error between simulated ground-truth and estimated tree \n",
    "\n",
    "The assignments of mutational and copy number events to nodes, i.e., their labeling, were obtained by \\\n",
    "the use of `DETOPT`. Here we specifically show how the clonal trees can be unrooted such that the non- \\\n",
    "trivial bipartitions and the RF distance can be computed."
   ]
  },
  {
   "cell_type": "markdown",
   "metadata": {},
   "source": [
    "#### **Packages**"
   ]
  },
  {
   "cell_type": "code",
   "execution_count": 93,
   "metadata": {},
   "outputs": [],
   "source": [
    "import pandas as pd\n",
    "\n",
    "from graphviz import Digraph\n",
    "import matplotlib.pyplot as plt\n",
    "import networkx as nx\n",
    "\n",
    "from copy import deepcopy\n",
    "from string import ascii_lowercase"
   ]
  },
  {
   "cell_type": "markdown",
   "metadata": {},
   "source": [
    "#### **Functions**"
   ]
  },
  {
   "cell_type": "code",
   "execution_count": 94,
   "metadata": {},
   "outputs": [],
   "source": [
    "def create_graph_from_dict(tree_dict, output_file=''):\n",
    "    # draw a tree from child parent dictionary\n",
    "    graph = Digraph('G', format='png')\n",
    "    \n",
    "    # node attributes\n",
    "    graph.attr('node', \n",
    "               shape='circle',\n",
    "               fixedsize='true', \n",
    "               width='0.35', \n",
    "               height='0.35',\n",
    "               fontsize='8.75'\n",
    "               )\n",
    "    \n",
    "    # edge attributes\n",
    "    graph.attr('edge', \n",
    "               arrowsize='0.4',\n",
    "               splines='false'\n",
    "               )\n",
    "    \n",
    "    # convert dictionary, mapping child to parent, to edges\n",
    "    edges = [(parent, child) for child, parent in tree_dict.items()]\n",
    "\n",
    "    # add the edges to the graph\n",
    "    for parent, child in edges:\n",
    "        graph.edge(parent, child)\n",
    "\n",
    "    return graph\n",
    "\n",
    "\n",
    "def create_undirected_graph_from_dict(tree_dict):\n",
    "    # add nodes/edges to graph, networkx object\n",
    "    graph = nx.Graph(tree_dict)\n",
    "    \n",
    "    # get layout of nodes\n",
    "    pos = nx.spring_layout(graph)\n",
    "    \n",
    "    nx.draw(graph, \n",
    "            pos, \n",
    "            with_labels=True, \n",
    "            node_size=500, \n",
    "            node_color='lightgrey', \n",
    "            font_family='Arial'\n",
    "            )\n",
    "    \n",
    "    return graph\n",
    "\n",
    "\n",
    "def create_undirected_graph(graph, pos):    \n",
    "    # drawing function given graph and layout\n",
    "    nx.draw(graph, \n",
    "            pos, \n",
    "            with_labels=True, \n",
    "            node_size=500, \n",
    "            node_color='lightgrey', \n",
    "            font_family='Arial'\n",
    "            )\n",
    "    \n",
    "    return graph\n",
    "\n",
    "\n",
    "def get_internal_nodes(graph):\n",
    "    # internal edges have degree > 1\n",
    "    return [node for node in graph.nodes() if graph.degree(node) > 1]\n",
    "\n",
    "def get_internal_edges(graph):\n",
    "    internal_nodes = get_internal_nodes(graph)\n",
    "    return [(u, v) for (u, v) in graph.edges() \\\n",
    "            if u in internal_nodes and v in internal_nodes]\n",
    "\n",
    "\n",
    "def extend_internal_nodes_as_leaves(graph, tree_dict):\n",
    "    internal_nodes = get_internal_nodes(graph)\n",
    "\n",
    "    for i in internal_nodes:\n",
    "        if i in tree_dict.keys():\n",
    "            tree_dict[i] = [tree_dict[i]] + [i+'$']\n",
    "        else:\n",
    "            tree_dict[i] = [i+'$']\n",
    "\n",
    "    return tree_dict\n",
    "\n",
    "\n",
    "def get_bipartitions(graph):\n",
    "    internal_edges = get_internal_edges(graph)\n",
    "    bipartion_set = []\n",
    "\n",
    "    for edge in internal_edges:\n",
    "    \n",
    "        cp_G = deepcopy(graph)\n",
    "        cp_G.remove_edge(*edge)\n",
    "\n",
    "        l_bip, r_bip = list(nx.connected_components(cp_G))\n",
    "\n",
    "        if not len(l_bip) < len(r_bip):\n",
    "\n",
    "            # stupid, but works\n",
    "            hold = l_bip\n",
    "            l_bip = r_bip\n",
    "            r_bip = hold\n",
    "\n",
    "        bipartion_set.append(\n",
    "            f\"{''.join(sorted(l_bip))}|{''.join(sorted(r_bip))}\"\n",
    "            )\n",
    "    \n",
    "    return bipartion_set"
   ]
  },
  {
   "cell_type": "markdown",
   "metadata": {},
   "source": [
    "#### **Unrooted tree representation of clonal trees**"
   ]
  },
  {
   "cell_type": "markdown",
   "metadata": {},
   "source": [
    "**Clonal tree**"
   ]
  },
  {
   "cell_type": "code",
   "execution_count": 95,
   "metadata": {},
   "outputs": [],
   "source": [
    "TREE_FILE = './simNo_1-s_11-m_100-h_40-cna_0.1.tree.tsv' # example of simulated tree"
   ]
  },
  {
   "cell_type": "code",
   "execution_count": 96,
   "metadata": {},
   "outputs": [],
   "source": [
    "tree = pd.read_csv(TREE_FILE, sep='\\t')\n",
    "tree_dict = tree.set_index('NODE_ID')['PARENT_ID'].to_dict()"
   ]
  },
  {
   "cell_type": "code",
   "execution_count": 97,
   "metadata": {},
   "outputs": [
    {
     "data": {
      "image/svg+xml": [
       "<?xml version=\"1.0\" encoding=\"UTF-8\" standalone=\"no\"?>\n",
       "<!DOCTYPE svg PUBLIC \"-//W3C//DTD SVG 1.1//EN\"\n",
       " \"http://www.w3.org/Graphics/SVG/1.1/DTD/svg11.dtd\">\n",
       "<!-- Generated by graphviz version 8.1.0 (0)\n",
       " -->\n",
       "<!-- Title: G Pages: 1 -->\n",
       "<svg width=\"183pt\" height=\"278pt\"\n",
       " viewBox=\"0.00 0.00 183.20 278.00\" xmlns=\"http://www.w3.org/2000/svg\" xmlns:xlink=\"http://www.w3.org/1999/xlink\">\n",
       "<g id=\"graph0\" class=\"graph\" transform=\"scale(1 1) rotate(0) translate(4 274)\">\n",
       "<title>G</title>\n",
       "<polygon fill=\"white\" stroke=\"none\" points=\"-4,4 -4,-274 179.2,-274 179.2,4 -4,4\"/>\n",
       "<!-- ROOT -->\n",
       "<g id=\"node1\" class=\"node\">\n",
       "<title>ROOT</title>\n",
       "<ellipse fill=\"none\" stroke=\"black\" cx=\"76.6\" cy=\"-257.4\" rx=\"12.6\" ry=\"12.6\"/>\n",
       "<text text-anchor=\"middle\" x=\"76.6\" y=\"-254.34\" font-family=\"Times,serif\" font-size=\"8.75\">ROOT</text>\n",
       "</g>\n",
       "<!-- 0 -->\n",
       "<g id=\"node2\" class=\"node\">\n",
       "<title>0</title>\n",
       "<ellipse fill=\"none\" stroke=\"black\" cx=\"76.6\" cy=\"-196.2\" rx=\"12.6\" ry=\"12.6\"/>\n",
       "<text text-anchor=\"middle\" x=\"76.6\" y=\"-193.14\" font-family=\"Times,serif\" font-size=\"8.75\">0</text>\n",
       "</g>\n",
       "<!-- ROOT&#45;&gt;0 -->\n",
       "<g id=\"edge1\" class=\"edge\">\n",
       "<title>ROOT&#45;&gt;0</title>\n",
       "<path fill=\"none\" stroke=\"black\" d=\"M76.6,-244.42C76.6,-235.67 76.6,-223.7 76.6,-214\"/>\n",
       "<polygon fill=\"black\" stroke=\"black\" points=\"78,-214.16 76.6,-210.16 75.2,-214.16 78,-214.16\"/>\n",
       "</g>\n",
       "<!-- 1 -->\n",
       "<g id=\"node3\" class=\"node\">\n",
       "<title>1</title>\n",
       "<ellipse fill=\"none\" stroke=\"black\" cx=\"12.6\" cy=\"-135\" rx=\"12.6\" ry=\"12.6\"/>\n",
       "<text text-anchor=\"middle\" x=\"12.6\" y=\"-131.94\" font-family=\"Times,serif\" font-size=\"8.75\">1</text>\n",
       "</g>\n",
       "<!-- 0&#45;&gt;1 -->\n",
       "<g id=\"edge2\" class=\"edge\">\n",
       "<title>0&#45;&gt;1</title>\n",
       "<path fill=\"none\" stroke=\"black\" d=\"M67.7,-186.97C56.62,-176.72 37.63,-159.15 25.09,-147.55\"/>\n",
       "<polygon fill=\"black\" stroke=\"black\" points=\"26.31,-146.85 22.42,-145.16 24.41,-148.91 26.31,-146.85\"/>\n",
       "</g>\n",
       "<!-- 2 -->\n",
       "<g id=\"node4\" class=\"node\">\n",
       "<title>2</title>\n",
       "<ellipse fill=\"none\" stroke=\"black\" cx=\"55.6\" cy=\"-135\" rx=\"12.6\" ry=\"12.6\"/>\n",
       "<text text-anchor=\"middle\" x=\"55.6\" y=\"-131.94\" font-family=\"Times,serif\" font-size=\"8.75\">2</text>\n",
       "</g>\n",
       "<!-- 0&#45;&gt;2 -->\n",
       "<g id=\"edge3\" class=\"edge\">\n",
       "<title>0&#45;&gt;2</title>\n",
       "<path fill=\"none\" stroke=\"black\" d=\"M72.55,-183.79C69.36,-174.78 64.86,-162.1 61.3,-152.06\"/>\n",
       "<polygon fill=\"black\" stroke=\"black\" points=\"62.29,-151.68 59.64,-148.38 59.65,-152.62 62.29,-151.68\"/>\n",
       "</g>\n",
       "<!-- 4 -->\n",
       "<g id=\"node6\" class=\"node\">\n",
       "<title>4</title>\n",
       "<ellipse fill=\"none\" stroke=\"black\" cx=\"98.6\" cy=\"-135\" rx=\"12.6\" ry=\"12.6\"/>\n",
       "<text text-anchor=\"middle\" x=\"98.6\" y=\"-131.94\" font-family=\"Times,serif\" font-size=\"8.75\">4</text>\n",
       "</g>\n",
       "<!-- 0&#45;&gt;4 -->\n",
       "<g id=\"edge5\" class=\"edge\">\n",
       "<title>0&#45;&gt;4</title>\n",
       "<path fill=\"none\" stroke=\"black\" d=\"M80.74,-184.06C84.15,-174.89 89.03,-161.76 92.82,-151.55\"/>\n",
       "<polygon fill=\"black\" stroke=\"black\" points=\"94.4,-152.32 94.48,-148.09 91.77,-151.35 94.4,-152.32\"/>\n",
       "</g>\n",
       "<!-- 7 -->\n",
       "<g id=\"node9\" class=\"node\">\n",
       "<title>7</title>\n",
       "<ellipse fill=\"none\" stroke=\"black\" cx=\"141.6\" cy=\"-135\" rx=\"12.6\" ry=\"12.6\"/>\n",
       "<text text-anchor=\"middle\" x=\"141.6\" y=\"-131.94\" font-family=\"Times,serif\" font-size=\"8.75\">7</text>\n",
       "</g>\n",
       "<!-- 0&#45;&gt;7 -->\n",
       "<g id=\"edge8\" class=\"edge\">\n",
       "<title>0&#45;&gt;7</title>\n",
       "<path fill=\"none\" stroke=\"black\" d=\"M85.64,-186.97C96.99,-176.63 116.52,-158.85 129.24,-147.25\"/>\n",
       "<polygon fill=\"black\" stroke=\"black\" points=\"129.62,-148.89 131.64,-145.16 127.74,-146.82 129.62,-148.89\"/>\n",
       "</g>\n",
       "<!-- 3 -->\n",
       "<g id=\"node5\" class=\"node\">\n",
       "<title>3</title>\n",
       "<ellipse fill=\"none\" stroke=\"black\" cx=\"12.6\" cy=\"-73.8\" rx=\"12.6\" ry=\"12.6\"/>\n",
       "<text text-anchor=\"middle\" x=\"12.6\" y=\"-70.74\" font-family=\"Times,serif\" font-size=\"8.75\">3</text>\n",
       "</g>\n",
       "<!-- 1&#45;&gt;3 -->\n",
       "<g id=\"edge4\" class=\"edge\">\n",
       "<title>1&#45;&gt;3</title>\n",
       "<path fill=\"none\" stroke=\"black\" d=\"M12.6,-122.02C12.6,-113.27 12.6,-101.3 12.6,-91.6\"/>\n",
       "<polygon fill=\"black\" stroke=\"black\" points=\"14,-91.76 12.6,-87.76 11.2,-91.76 14,-91.76\"/>\n",
       "</g>\n",
       "<!-- 6 -->\n",
       "<g id=\"node8\" class=\"node\">\n",
       "<title>6</title>\n",
       "<ellipse fill=\"none\" stroke=\"black\" cx=\"55.6\" cy=\"-73.8\" rx=\"12.6\" ry=\"12.6\"/>\n",
       "<text text-anchor=\"middle\" x=\"55.6\" y=\"-70.74\" font-family=\"Times,serif\" font-size=\"8.75\">6</text>\n",
       "</g>\n",
       "<!-- 2&#45;&gt;6 -->\n",
       "<g id=\"edge7\" class=\"edge\">\n",
       "<title>2&#45;&gt;6</title>\n",
       "<path fill=\"none\" stroke=\"black\" d=\"M55.6,-122.02C55.6,-113.27 55.6,-101.3 55.6,-91.6\"/>\n",
       "<polygon fill=\"black\" stroke=\"black\" points=\"57,-91.76 55.6,-87.76 54.2,-91.76 57,-91.76\"/>\n",
       "</g>\n",
       "<!-- 5 -->\n",
       "<g id=\"node7\" class=\"node\">\n",
       "<title>5</title>\n",
       "<ellipse fill=\"none\" stroke=\"black\" cx=\"12.6\" cy=\"-12.6\" rx=\"12.6\" ry=\"12.6\"/>\n",
       "<text text-anchor=\"middle\" x=\"12.6\" y=\"-9.54\" font-family=\"Times,serif\" font-size=\"8.75\">5</text>\n",
       "</g>\n",
       "<!-- 3&#45;&gt;5 -->\n",
       "<g id=\"edge6\" class=\"edge\">\n",
       "<title>3&#45;&gt;5</title>\n",
       "<path fill=\"none\" stroke=\"black\" d=\"M12.6,-60.82C12.6,-52.07 12.6,-40.1 12.6,-30.4\"/>\n",
       "<polygon fill=\"black\" stroke=\"black\" points=\"14,-30.56 12.6,-26.56 11.2,-30.56 14,-30.56\"/>\n",
       "</g>\n",
       "<!-- 8 -->\n",
       "<g id=\"node10\" class=\"node\">\n",
       "<title>8</title>\n",
       "<ellipse fill=\"none\" stroke=\"black\" cx=\"119.6\" cy=\"-73.8\" rx=\"12.6\" ry=\"12.6\"/>\n",
       "<text text-anchor=\"middle\" x=\"119.6\" y=\"-70.74\" font-family=\"Times,serif\" font-size=\"8.75\">8</text>\n",
       "</g>\n",
       "<!-- 7&#45;&gt;8 -->\n",
       "<g id=\"edge9\" class=\"edge\">\n",
       "<title>7&#45;&gt;8</title>\n",
       "<path fill=\"none\" stroke=\"black\" d=\"M137.46,-122.86C134.05,-113.69 129.17,-100.56 125.38,-90.35\"/>\n",
       "<polygon fill=\"black\" stroke=\"black\" points=\"126.43,-90.15 123.72,-86.89 123.8,-91.12 126.43,-90.15\"/>\n",
       "</g>\n",
       "<!-- 9 -->\n",
       "<g id=\"node11\" class=\"node\">\n",
       "<title>9</title>\n",
       "<ellipse fill=\"none\" stroke=\"black\" cx=\"162.6\" cy=\"-73.8\" rx=\"12.6\" ry=\"12.6\"/>\n",
       "<text text-anchor=\"middle\" x=\"162.6\" y=\"-70.74\" font-family=\"Times,serif\" font-size=\"8.75\">9</text>\n",
       "</g>\n",
       "<!-- 7&#45;&gt;9 -->\n",
       "<g id=\"edge10\" class=\"edge\">\n",
       "<title>7&#45;&gt;9</title>\n",
       "<path fill=\"none\" stroke=\"black\" d=\"M145.65,-122.59C148.84,-113.58 153.34,-100.9 156.9,-90.86\"/>\n",
       "<polygon fill=\"black\" stroke=\"black\" points=\"158.55,-91.42 158.56,-87.18 155.91,-90.48 158.55,-91.42\"/>\n",
       "</g>\n",
       "</g>\n",
       "</svg>\n"
      ],
      "text/plain": [
       "<graphviz.graphs.Digraph at 0x16d6d3c70>"
      ]
     },
     "execution_count": 97,
     "metadata": {},
     "output_type": "execute_result"
    }
   ],
   "source": [
    "del tree_dict['ROOT']\n",
    "graph = create_graph_from_dict(tree_dict, '')\n",
    "\n",
    "graph"
   ]
  },
  {
   "cell_type": "markdown",
   "metadata": {},
   "source": [
    "Delete the root from the clonal tree since no mutations are assigned to the root node; the root \\\n",
    "represents the subpopulation of normal cells, free of genomic aberrations. Below, we give the \\\n",
    "same tree but with the ROOT removed."
   ]
  },
  {
   "cell_type": "code",
   "execution_count": 98,
   "metadata": {},
   "outputs": [
    {
     "data": {
      "image/svg+xml": [
       "<?xml version=\"1.0\" encoding=\"UTF-8\" standalone=\"no\"?>\n",
       "<!DOCTYPE svg PUBLIC \"-//W3C//DTD SVG 1.1//EN\"\n",
       " \"http://www.w3.org/Graphics/SVG/1.1/DTD/svg11.dtd\">\n",
       "<!-- Generated by graphviz version 8.1.0 (0)\n",
       " -->\n",
       "<!-- Title: G Pages: 1 -->\n",
       "<svg width=\"183pt\" height=\"217pt\"\n",
       " viewBox=\"0.00 0.00 183.20 216.80\" xmlns=\"http://www.w3.org/2000/svg\" xmlns:xlink=\"http://www.w3.org/1999/xlink\">\n",
       "<g id=\"graph0\" class=\"graph\" transform=\"scale(1 1) rotate(0) translate(4 212.8)\">\n",
       "<title>G</title>\n",
       "<polygon fill=\"white\" stroke=\"none\" points=\"-4,4 -4,-212.8 179.2,-212.8 179.2,4 -4,4\"/>\n",
       "<!-- 0 -->\n",
       "<g id=\"node1\" class=\"node\">\n",
       "<title>0</title>\n",
       "<ellipse fill=\"none\" stroke=\"black\" cx=\"76.6\" cy=\"-196.2\" rx=\"12.6\" ry=\"12.6\"/>\n",
       "<text text-anchor=\"middle\" x=\"76.6\" y=\"-193.14\" font-family=\"Times,serif\" font-size=\"8.75\">0</text>\n",
       "</g>\n",
       "<!-- 1 -->\n",
       "<g id=\"node2\" class=\"node\">\n",
       "<title>1</title>\n",
       "<ellipse fill=\"none\" stroke=\"black\" cx=\"12.6\" cy=\"-135\" rx=\"12.6\" ry=\"12.6\"/>\n",
       "<text text-anchor=\"middle\" x=\"12.6\" y=\"-131.94\" font-family=\"Times,serif\" font-size=\"8.75\">1</text>\n",
       "</g>\n",
       "<!-- 0&#45;&gt;1 -->\n",
       "<g id=\"edge1\" class=\"edge\">\n",
       "<title>0&#45;&gt;1</title>\n",
       "<path fill=\"none\" stroke=\"black\" d=\"M67.7,-186.97C56.62,-176.72 37.63,-159.15 25.09,-147.55\"/>\n",
       "<polygon fill=\"black\" stroke=\"black\" points=\"26.31,-146.85 22.42,-145.16 24.41,-148.91 26.31,-146.85\"/>\n",
       "</g>\n",
       "<!-- 2 -->\n",
       "<g id=\"node3\" class=\"node\">\n",
       "<title>2</title>\n",
       "<ellipse fill=\"none\" stroke=\"black\" cx=\"55.6\" cy=\"-135\" rx=\"12.6\" ry=\"12.6\"/>\n",
       "<text text-anchor=\"middle\" x=\"55.6\" y=\"-131.94\" font-family=\"Times,serif\" font-size=\"8.75\">2</text>\n",
       "</g>\n",
       "<!-- 0&#45;&gt;2 -->\n",
       "<g id=\"edge2\" class=\"edge\">\n",
       "<title>0&#45;&gt;2</title>\n",
       "<path fill=\"none\" stroke=\"black\" d=\"M72.55,-183.79C69.36,-174.78 64.86,-162.1 61.3,-152.06\"/>\n",
       "<polygon fill=\"black\" stroke=\"black\" points=\"62.29,-151.68 59.64,-148.38 59.65,-152.62 62.29,-151.68\"/>\n",
       "</g>\n",
       "<!-- 4 -->\n",
       "<g id=\"node5\" class=\"node\">\n",
       "<title>4</title>\n",
       "<ellipse fill=\"none\" stroke=\"black\" cx=\"98.6\" cy=\"-135\" rx=\"12.6\" ry=\"12.6\"/>\n",
       "<text text-anchor=\"middle\" x=\"98.6\" y=\"-131.94\" font-family=\"Times,serif\" font-size=\"8.75\">4</text>\n",
       "</g>\n",
       "<!-- 0&#45;&gt;4 -->\n",
       "<g id=\"edge4\" class=\"edge\">\n",
       "<title>0&#45;&gt;4</title>\n",
       "<path fill=\"none\" stroke=\"black\" d=\"M80.74,-184.06C84.15,-174.89 89.03,-161.76 92.82,-151.55\"/>\n",
       "<polygon fill=\"black\" stroke=\"black\" points=\"94.4,-152.32 94.48,-148.09 91.77,-151.35 94.4,-152.32\"/>\n",
       "</g>\n",
       "<!-- 7 -->\n",
       "<g id=\"node8\" class=\"node\">\n",
       "<title>7</title>\n",
       "<ellipse fill=\"none\" stroke=\"black\" cx=\"141.6\" cy=\"-135\" rx=\"12.6\" ry=\"12.6\"/>\n",
       "<text text-anchor=\"middle\" x=\"141.6\" y=\"-131.94\" font-family=\"Times,serif\" font-size=\"8.75\">7</text>\n",
       "</g>\n",
       "<!-- 0&#45;&gt;7 -->\n",
       "<g id=\"edge7\" class=\"edge\">\n",
       "<title>0&#45;&gt;7</title>\n",
       "<path fill=\"none\" stroke=\"black\" d=\"M85.64,-186.97C96.99,-176.63 116.52,-158.85 129.24,-147.25\"/>\n",
       "<polygon fill=\"black\" stroke=\"black\" points=\"129.62,-148.89 131.64,-145.16 127.74,-146.82 129.62,-148.89\"/>\n",
       "</g>\n",
       "<!-- 3 -->\n",
       "<g id=\"node4\" class=\"node\">\n",
       "<title>3</title>\n",
       "<ellipse fill=\"none\" stroke=\"black\" cx=\"12.6\" cy=\"-73.8\" rx=\"12.6\" ry=\"12.6\"/>\n",
       "<text text-anchor=\"middle\" x=\"12.6\" y=\"-70.74\" font-family=\"Times,serif\" font-size=\"8.75\">3</text>\n",
       "</g>\n",
       "<!-- 1&#45;&gt;3 -->\n",
       "<g id=\"edge3\" class=\"edge\">\n",
       "<title>1&#45;&gt;3</title>\n",
       "<path fill=\"none\" stroke=\"black\" d=\"M12.6,-122.02C12.6,-113.27 12.6,-101.3 12.6,-91.6\"/>\n",
       "<polygon fill=\"black\" stroke=\"black\" points=\"14,-91.76 12.6,-87.76 11.2,-91.76 14,-91.76\"/>\n",
       "</g>\n",
       "<!-- 6 -->\n",
       "<g id=\"node7\" class=\"node\">\n",
       "<title>6</title>\n",
       "<ellipse fill=\"none\" stroke=\"black\" cx=\"55.6\" cy=\"-73.8\" rx=\"12.6\" ry=\"12.6\"/>\n",
       "<text text-anchor=\"middle\" x=\"55.6\" y=\"-70.74\" font-family=\"Times,serif\" font-size=\"8.75\">6</text>\n",
       "</g>\n",
       "<!-- 2&#45;&gt;6 -->\n",
       "<g id=\"edge6\" class=\"edge\">\n",
       "<title>2&#45;&gt;6</title>\n",
       "<path fill=\"none\" stroke=\"black\" d=\"M55.6,-122.02C55.6,-113.27 55.6,-101.3 55.6,-91.6\"/>\n",
       "<polygon fill=\"black\" stroke=\"black\" points=\"57,-91.76 55.6,-87.76 54.2,-91.76 57,-91.76\"/>\n",
       "</g>\n",
       "<!-- 5 -->\n",
       "<g id=\"node6\" class=\"node\">\n",
       "<title>5</title>\n",
       "<ellipse fill=\"none\" stroke=\"black\" cx=\"12.6\" cy=\"-12.6\" rx=\"12.6\" ry=\"12.6\"/>\n",
       "<text text-anchor=\"middle\" x=\"12.6\" y=\"-9.54\" font-family=\"Times,serif\" font-size=\"8.75\">5</text>\n",
       "</g>\n",
       "<!-- 3&#45;&gt;5 -->\n",
       "<g id=\"edge5\" class=\"edge\">\n",
       "<title>3&#45;&gt;5</title>\n",
       "<path fill=\"none\" stroke=\"black\" d=\"M12.6,-60.82C12.6,-52.07 12.6,-40.1 12.6,-30.4\"/>\n",
       "<polygon fill=\"black\" stroke=\"black\" points=\"14,-30.56 12.6,-26.56 11.2,-30.56 14,-30.56\"/>\n",
       "</g>\n",
       "<!-- 8 -->\n",
       "<g id=\"node9\" class=\"node\">\n",
       "<title>8</title>\n",
       "<ellipse fill=\"none\" stroke=\"black\" cx=\"119.6\" cy=\"-73.8\" rx=\"12.6\" ry=\"12.6\"/>\n",
       "<text text-anchor=\"middle\" x=\"119.6\" y=\"-70.74\" font-family=\"Times,serif\" font-size=\"8.75\">8</text>\n",
       "</g>\n",
       "<!-- 7&#45;&gt;8 -->\n",
       "<g id=\"edge8\" class=\"edge\">\n",
       "<title>7&#45;&gt;8</title>\n",
       "<path fill=\"none\" stroke=\"black\" d=\"M137.46,-122.86C134.05,-113.69 129.17,-100.56 125.38,-90.35\"/>\n",
       "<polygon fill=\"black\" stroke=\"black\" points=\"126.43,-90.15 123.72,-86.89 123.8,-91.12 126.43,-90.15\"/>\n",
       "</g>\n",
       "<!-- 9 -->\n",
       "<g id=\"node10\" class=\"node\">\n",
       "<title>9</title>\n",
       "<ellipse fill=\"none\" stroke=\"black\" cx=\"162.6\" cy=\"-73.8\" rx=\"12.6\" ry=\"12.6\"/>\n",
       "<text text-anchor=\"middle\" x=\"162.6\" y=\"-70.74\" font-family=\"Times,serif\" font-size=\"8.75\">9</text>\n",
       "</g>\n",
       "<!-- 7&#45;&gt;9 -->\n",
       "<g id=\"edge9\" class=\"edge\">\n",
       "<title>7&#45;&gt;9</title>\n",
       "<path fill=\"none\" stroke=\"black\" d=\"M145.65,-122.59C148.84,-113.58 153.34,-100.9 156.9,-90.86\"/>\n",
       "<polygon fill=\"black\" stroke=\"black\" points=\"158.55,-91.42 158.56,-87.18 155.91,-90.48 158.55,-91.42\"/>\n",
       "</g>\n",
       "</g>\n",
       "</svg>\n"
      ],
      "text/plain": [
       "<graphviz.graphs.Digraph at 0x16d6d2f80>"
      ]
     },
     "execution_count": 98,
     "metadata": {},
     "output_type": "execute_result"
    }
   ],
   "source": [
    "del tree_dict['0']\n",
    "graph = create_graph_from_dict(tree_dict, '')\n",
    "\n",
    "graph"
   ]
  },
  {
   "cell_type": "markdown",
   "metadata": {},
   "source": [
    "**Unrooted tree**"
   ]
  },
  {
   "cell_type": "markdown",
   "metadata": {},
   "source": [
    "The clonal tree can be represented as an acyclic, undirected graph, i.e., an unrooted tree \\\n",
    "by changing the directed edges into undirected edges. Consider this unrooted tree, as a \\\n",
    "spanning tree on the set of *observed* cancer subclones."
   ]
  },
  {
   "cell_type": "code",
   "execution_count": 99,
   "metadata": {},
   "outputs": [
    {
     "data": {
      "image/png": "[encoded data removed]",
      "text/plain": [
       "<Figure size 640x480 with 1 Axes>"
      ]
     },
     "metadata": {},
     "output_type": "display_data"
    }
   ],
   "source": [
    "tree_dict_not_ext = deepcopy(tree_dict)\n",
    "graph = create_undirected_graph_from_dict(tree_dict)"
   ]
  },
  {
   "cell_type": "markdown",
   "metadata": {},
   "source": [
    "It can easily be seen that we can extend the internal nodes, and respectively their labels, \\\n",
    " such that each subclone becomes a leaf node in the unrooted tree."
   ]
  },
  {
   "cell_type": "code",
   "execution_count": 70,
   "metadata": {},
   "outputs": [
    {
     "data": {
      "image/png": "[encoded data removed]",
      "text/plain": [
       "<Figure size 640x480 with 1 Axes>"
      ]
     },
     "metadata": {},
     "output_type": "display_data"
    }
   ],
   "source": [
    "tree_dict_ext = extend_internal_nodes_as_leaves(graph, tree_dict)\n",
    "ext_graph = create_undirected_graph_from_dict(tree_dict_ext)"
   ]
  },
  {
   "cell_type": "markdown",
   "metadata": {},
   "source": [
    "Then, we can arbitrarily relabel the internal nodes. Then, to find the non-trivial bipartitions, \\\n",
    "we would just cut each internal edge, e.g., (*b*, *e*), and for each cut, identify the leaf sets of \\\n",
    "the two resultant trees."
   ]
  },
  {
   "cell_type": "code",
   "execution_count": 71,
   "metadata": {},
   "outputs": [],
   "source": [
    "internal_nodes = get_internal_nodes(graph)\n",
    "leaf_labels = map(lambda x: f'{x}$', internal_nodes)\n",
    "\n",
    "rename_internal_nodes = dict(zip(internal_nodes, ascii_lowercase))\n",
    "rename_leaf_nodes = dict(zip(leaf_labels, internal_nodes))\n",
    "rename_internal_nodes.update(rename_leaf_nodes)"
   ]
  },
  {
   "cell_type": "code",
   "execution_count": 72,
   "metadata": {},
   "outputs": [
    {
     "data": {
      "image/png": "[encoded data removed]",
      "text/plain": [
       "<Figure size 640x480 with 1 Axes>"
      ]
     },
     "metadata": {},
     "output_type": "display_data"
    }
   ],
   "source": [
    "node_mapping = rename_internal_nodes\n",
    "G_renamed = nx.relabel_nodes(ext_graph, node_mapping)\n",
    "\n",
    "pos = nx.spring_layout(G_renamed)\n",
    "full = create_undirected_graph(G_renamed, pos)"
   ]
  },
  {
   "cell_type": "markdown",
   "metadata": {},
   "source": [
    "#### **Bipartions of (now unrooted) clonal trees**"
   ]
  },
  {
   "cell_type": "markdown",
   "metadata": {},
   "source": [
    "But it is actually not necessary to extend the internal nodes to leaves to find the tree \\\n",
    "bipartitions. We show an example below; cutting the internal edge (*0*, *1*) in the tree \\\n",
    "below is the same as cutting the internal edge (*a*, *e*) in the tree above."
   ]
  },
  {
   "cell_type": "code",
   "execution_count": 73,
   "metadata": {},
   "outputs": [
    {
     "data": {
      "image/png": "[encoded data removed]",
      "text/plain": [
       "<Figure size 640x480 with 1 Axes>"
      ]
     },
     "metadata": {},
     "output_type": "display_data"
    }
   ],
   "source": [
    "graph = create_undirected_graph_from_dict(tree_dict_not_ext)\n",
    "cp_G = deepcopy(nx.Graph(tree_dict_not_ext)) # copy of graph"
   ]
  },
  {
   "cell_type": "code",
   "execution_count": 74,
   "metadata": {},
   "outputs": [
    {
     "name": "stdout",
     "output_type": "stream",
     "text": [
      "('1', '0')\n"
     ]
    }
   ],
   "source": [
    "internal_edges = get_internal_edges(graph)\n",
    "\n",
    "print(internal_edges[0])\n",
    "cp_G.remove_edge(*internal_edges[0])"
   ]
  },
  {
   "cell_type": "code",
   "execution_count": 75,
   "metadata": {},
   "outputs": [
    {
     "data": {
      "image/png": "[encoded data removed]",
      "text/plain": [
       "<Figure size 640x480 with 1 Axes>"
      ]
     },
     "metadata": {},
     "output_type": "display_data"
    }
   ],
   "source": [
    "pos = nx.spring_layout(cp_G) \n",
    "prev = create_undirected_graph(cp_G, pos)"
   ]
  },
  {
   "cell_type": "markdown",
   "metadata": {},
   "source": [
    "Below is the set of non-trivial bipartitions of the graph."
   ]
  },
  {
   "cell_type": "code",
   "execution_count": 76,
   "metadata": {},
   "outputs": [
    {
     "data": {
      "text/plain": [
       "['135|0246789', '35|01246789', '26|01345789', '789|0123456']"
      ]
     },
     "execution_count": 76,
     "metadata": {},
     "output_type": "execute_result"
    }
   ],
   "source": [
    "bipartion_set = get_bipartitions(graph)\n",
    "bipartion_set"
   ]
  },
  {
   "cell_type": "markdown",
   "metadata": {},
   "source": [
    "#### **`Robinson-Foulds` Distance Function**"
   ]
  },
  {
   "cell_type": "code",
   "execution_count": 180,
   "metadata": {},
   "outputs": [],
   "source": [
    "def robinson_foulds_distance(bip1, bip2):\n",
    "    # given two bipartition sets from two trees, return the RF distance\n",
    "\n",
    "    _bip1,_bip2 = set(bip1), set(bip2)\n",
    "    uniq_bipartitions = _bip1.symmetric_difference(_bip2)\n",
    "\n",
    "    return len(uniq_bipartitions)"
   ]
  },
  {
   "cell_type": "markdown",
   "metadata": {},
   "source": [
    "#### **Example of using RF distance** (as mentioned in main text)"
   ]
  },
  {
   "cell_type": "markdown",
   "metadata": {},
   "source": [
    "In `DETOPT` (and in its extension), we assign to each node (subclone) mutations to indicate \\\n",
    "when in the phylogeny the mutation occured for the first time. This means that each node has \\\n",
    "a unique assignment of a mutation (from the set of all mutations). In our simulations, we have \\\n",
    "ground-truth assignments of where these mutations should be placed (column named `SNV_IDS` \\\n",
    "in the table below for its corresponding node as given by column named `NODE_ID`).\n",
    "\n",
    "**Importantly**, we are using the RF distance as a way to evaluate how badly the mutation \\\n",
    "was placed. The two other measures only say whether the placement preserves ancestor- \\\n",
    "descendant relationship of mutation pairs. \n",
    "\n",
    "By using the RF distance, we have some more granularity. For instance, suppose that a mutation \\\n",
    "is incorrectly placed in a different lineage/branch (to the node it is assigned to in the ground- \\\n",
    "truth tree). The RF distance can be used as an approximation to *how far away the incorrect placement* \\\n",
    "*is to the ground-truth placement*. If the mutation is placed towards the leaves in a different branch, \\\n",
    "the RF distance is higher than if it was placed closer to the root (and closer to the correct placement)."
   ]
  },
  {
   "cell_type": "code",
   "execution_count": 181,
   "metadata": {},
   "outputs": [
    {
     "data": {
      "text/html": [
       "<div>\n",
       "<style scoped>\n",
       "    .dataframe tbody tr th:only-of-type {\n",
       "        vertical-align: middle;\n",
       "    }\n",
       "\n",
       "    .dataframe tbody tr th {\n",
       "        vertical-align: top;\n",
       "    }\n",
       "\n",
       "    .dataframe thead th {\n",
       "        text-align: right;\n",
       "    }\n",
       "</style>\n",
       "<table border=\"1\" class=\"dataframe\">\n",
       "  <thead>\n",
       "    <tr style=\"text-align: right;\">\n",
       "      <th></th>\n",
       "      <th>NODE_ID</th>\n",
       "      <th>PARENT_ID</th>\n",
       "      <th>SNV_IDS</th>\n",
       "      <th>SNV_ALLELES</th>\n",
       "      <th>CNA_IDS</th>\n",
       "      <th>CNA_CHANGES</th>\n",
       "      <th>SAMPLE_IDS</th>\n",
       "      <th>SAMPLE_NODE_FREQUENCIES</th>\n",
       "    </tr>\n",
       "  </thead>\n",
       "  <tbody>\n",
       "    <tr>\n",
       "      <th>0</th>\n",
       "      <td>ROOT</td>\n",
       "      <td>NONE</td>\n",
       "      <td>NaN</td>\n",
       "      <td>NaN</td>\n",
       "      <td>NaN</td>\n",
       "      <td>NaN</td>\n",
       "      <td>MASTER_SAMPLE,S0,S1,S2,S3,S4,S5,S6,S7,S8,S9,S1...</td>\n",
       "      <td>0.1108,0.1348,0.1639,0.1279,0.1308,0.0694,0.13...</td>\n",
       "    </tr>\n",
       "    <tr>\n",
       "      <th>1</th>\n",
       "      <td>0</td>\n",
       "      <td>ROOT</td>\n",
       "      <td>mut0,mut1,mut2,mut3,mut4,mut5,mut6</td>\n",
       "      <td>M,P,M,P,P,P,P</td>\n",
       "      <td>cna_mut53</td>\n",
       "      <td>(1,0)</td>\n",
       "      <td>MASTER_SAMPLE,S0,S1,S2,S3,S4,S5,S6,S7,S8,S9,S1...</td>\n",
       "      <td>0.1040,0.0433,0.1011,0.0234,0.0162,0.1490,0.14...</td>\n",
       "    </tr>\n",
       "    <tr>\n",
       "      <th>2</th>\n",
       "      <td>1</td>\n",
       "      <td>0</td>\n",
       "      <td>mut7,mut8,mut9,mut10,mut11,mut12,mut13,mut14</td>\n",
       "      <td>M,P,M,M,P,P,M,P</td>\n",
       "      <td>NaN</td>\n",
       "      <td>NaN</td>\n",
       "      <td>MASTER_SAMPLE,S0,S1,S2,S3,S4,S5,S6,S7,S8,S9,S1...</td>\n",
       "      <td>0.0402,0.1069,0.0913,0.1353,0.0782,0.1241,0.13...</td>\n",
       "    </tr>\n",
       "    <tr>\n",
       "      <th>3</th>\n",
       "      <td>2</td>\n",
       "      <td>0</td>\n",
       "      <td>mut15,mut16,mut17,mut18,mut19,mut20,mut21,mut2...</td>\n",
       "      <td>M,P,P,P,M,M,M,P,M,M,M,P,P</td>\n",
       "      <td>cna_mut49,cna_mut93</td>\n",
       "      <td>(0,1),(0,-1)</td>\n",
       "      <td>MASTER_SAMPLE,S0,S1,S2,S3,S4,S5,S6,S7,S8,S9,S1...</td>\n",
       "      <td>0.1091,0.0579,0.0356,0.1328,0.0390,0.0702,0.12...</td>\n",
       "    </tr>\n",
       "    <tr>\n",
       "      <th>4</th>\n",
       "      <td>3</td>\n",
       "      <td>1</td>\n",
       "      <td>mut28,mut29,mut30,mut31,mut32,mut33,mut34,mut3...</td>\n",
       "      <td>M,M,P,P,M,P,M,P,M,P</td>\n",
       "      <td>cna_mut48</td>\n",
       "      <td>(0,1)</td>\n",
       "      <td>MASTER_SAMPLE,S0,S1,S2,S3,S4,S5,S6,S7,S8,S9,S1...</td>\n",
       "      <td>0.0230,0.1436,0.0946,0.0690,0.1601,0.0837,0.01...</td>\n",
       "    </tr>\n",
       "    <tr>\n",
       "      <th>5</th>\n",
       "      <td>4</td>\n",
       "      <td>0</td>\n",
       "      <td>mut38,mut39,mut40,mut41,mut42,mut43,mut44,mut45</td>\n",
       "      <td>M,P,M,P,P,M,P,M</td>\n",
       "      <td>cna_mut71,cna_mut50</td>\n",
       "      <td>(1,0),(0,-1)</td>\n",
       "      <td>MASTER_SAMPLE,S0,S1,S2,S3,S4,S5,S6,S7,S8,S9,S1...</td>\n",
       "      <td>0.0871,0.0989,0.1794,0.1320,0.1038,0.0498,0.12...</td>\n",
       "    </tr>\n",
       "    <tr>\n",
       "      <th>6</th>\n",
       "      <td>5</td>\n",
       "      <td>3</td>\n",
       "      <td>mut46,mut47,mut48,mut49,mut50,mut51,mut52,mut5...</td>\n",
       "      <td>P,P,M,M,P,P,M,P,P,M,P</td>\n",
       "      <td>cna_mut63</td>\n",
       "      <td>(0,1)</td>\n",
       "      <td>MASTER_SAMPLE,S0,S1,S2,S3,S4,S5,S6,S7,S8,S9,S1...</td>\n",
       "      <td>0.0473,0.1210,0.1064,0.1099,0.0485,0.1455,0.02...</td>\n",
       "    </tr>\n",
       "    <tr>\n",
       "      <th>7</th>\n",
       "      <td>6</td>\n",
       "      <td>2</td>\n",
       "      <td>mut57,mut58,mut59,mut60,mut61,mut62,mut63,mut6...</td>\n",
       "      <td>M,P,P,P,M,M,M,M,P,M</td>\n",
       "      <td>cna_mut97,cna_mut22</td>\n",
       "      <td>(0,-1),(0,-1)</td>\n",
       "      <td>MASTER_SAMPLE,S0,S1,S2,S3,S4,S5,S6,S7,S8,S9,S1...</td>\n",
       "      <td>0.1127,0.0936,0.0207,0.0461,0.1691,0.0668,0.10...</td>\n",
       "    </tr>\n",
       "    <tr>\n",
       "      <th>8</th>\n",
       "      <td>7</td>\n",
       "      <td>0</td>\n",
       "      <td>mut67,mut68,mut69,mut70,mut71,mut72,mut73,mut7...</td>\n",
       "      <td>M,P,P,P,M,M,M,P,M,P,P,M,M</td>\n",
       "      <td>NaN</td>\n",
       "      <td>NaN</td>\n",
       "      <td>MASTER_SAMPLE,S0,S1,S2,S3,S4,S5,S6,S7,S8,S9,S1...</td>\n",
       "      <td>0.1324,0.0482,0.0510,0.1407,0.0725,0.1191,0.03...</td>\n",
       "    </tr>\n",
       "    <tr>\n",
       "      <th>9</th>\n",
       "      <td>8</td>\n",
       "      <td>7</td>\n",
       "      <td>mut80,mut81,mut82,mut83,mut84,mut85,mut86,mut8...</td>\n",
       "      <td>M,M,P,M,M,M,M,M,M,P</td>\n",
       "      <td>NaN</td>\n",
       "      <td>NaN</td>\n",
       "      <td>MASTER_SAMPLE,S0,S1,S2,S3,S4,S5,S6,S7,S8,S9,S1...</td>\n",
       "      <td>0.1113,0.0619,0.1170,0.0243,0.1405,0.0145,0.06...</td>\n",
       "    </tr>\n",
       "    <tr>\n",
       "      <th>10</th>\n",
       "      <td>9</td>\n",
       "      <td>7</td>\n",
       "      <td>mut90,mut91,mut92,mut93,mut94,mut95,mut96,mut9...</td>\n",
       "      <td>M,P,M,P,M,P,P,M,M,P</td>\n",
       "      <td>cna_mut28</td>\n",
       "      <td>(0,1)</td>\n",
       "      <td>MASTER_SAMPLE,S0,S1,S2,S3,S4,S5,S6,S7,S8,S9,S1...</td>\n",
       "      <td>0.1221,0.0900,0.0391,0.0586,0.0414,0.1081,0.09...</td>\n",
       "    </tr>\n",
       "  </tbody>\n",
       "</table>\n",
       "</div>"
      ],
      "text/plain": [
       "   NODE_ID PARENT_ID                                            SNV_IDS  \\\n",
       "0     ROOT      NONE                                                NaN   \n",
       "1        0      ROOT                 mut0,mut1,mut2,mut3,mut4,mut5,mut6   \n",
       "2        1         0       mut7,mut8,mut9,mut10,mut11,mut12,mut13,mut14   \n",
       "3        2         0  mut15,mut16,mut17,mut18,mut19,mut20,mut21,mut2...   \n",
       "4        3         1  mut28,mut29,mut30,mut31,mut32,mut33,mut34,mut3...   \n",
       "5        4         0    mut38,mut39,mut40,mut41,mut42,mut43,mut44,mut45   \n",
       "6        5         3  mut46,mut47,mut48,mut49,mut50,mut51,mut52,mut5...   \n",
       "7        6         2  mut57,mut58,mut59,mut60,mut61,mut62,mut63,mut6...   \n",
       "8        7         0  mut67,mut68,mut69,mut70,mut71,mut72,mut73,mut7...   \n",
       "9        8         7  mut80,mut81,mut82,mut83,mut84,mut85,mut86,mut8...   \n",
       "10       9         7  mut90,mut91,mut92,mut93,mut94,mut95,mut96,mut9...   \n",
       "\n",
       "                  SNV_ALLELES              CNA_IDS    CNA_CHANGES  \\\n",
       "0                         NaN                  NaN            NaN   \n",
       "1               M,P,M,P,P,P,P            cna_mut53          (1,0)   \n",
       "2             M,P,M,M,P,P,M,P                  NaN            NaN   \n",
       "3   M,P,P,P,M,M,M,P,M,M,M,P,P  cna_mut49,cna_mut93   (0,1),(0,-1)   \n",
       "4         M,M,P,P,M,P,M,P,M,P            cna_mut48          (0,1)   \n",
       "5             M,P,M,P,P,M,P,M  cna_mut71,cna_mut50   (1,0),(0,-1)   \n",
       "6       P,P,M,M,P,P,M,P,P,M,P            cna_mut63          (0,1)   \n",
       "7         M,P,P,P,M,M,M,M,P,M  cna_mut97,cna_mut22  (0,-1),(0,-1)   \n",
       "8   M,P,P,P,M,M,M,P,M,P,P,M,M                  NaN            NaN   \n",
       "9         M,M,P,M,M,M,M,M,M,P                  NaN            NaN   \n",
       "10        M,P,M,P,M,P,P,M,M,P            cna_mut28          (0,1)   \n",
       "\n",
       "                                           SAMPLE_IDS  \\\n",
       "0   MASTER_SAMPLE,S0,S1,S2,S3,S4,S5,S6,S7,S8,S9,S1...   \n",
       "1   MASTER_SAMPLE,S0,S1,S2,S3,S4,S5,S6,S7,S8,S9,S1...   \n",
       "2   MASTER_SAMPLE,S0,S1,S2,S3,S4,S5,S6,S7,S8,S9,S1...   \n",
       "3   MASTER_SAMPLE,S0,S1,S2,S3,S4,S5,S6,S7,S8,S9,S1...   \n",
       "4   MASTER_SAMPLE,S0,S1,S2,S3,S4,S5,S6,S7,S8,S9,S1...   \n",
       "5   MASTER_SAMPLE,S0,S1,S2,S3,S4,S5,S6,S7,S8,S9,S1...   \n",
       "6   MASTER_SAMPLE,S0,S1,S2,S3,S4,S5,S6,S7,S8,S9,S1...   \n",
       "7   MASTER_SAMPLE,S0,S1,S2,S3,S4,S5,S6,S7,S8,S9,S1...   \n",
       "8   MASTER_SAMPLE,S0,S1,S2,S3,S4,S5,S6,S7,S8,S9,S1...   \n",
       "9   MASTER_SAMPLE,S0,S1,S2,S3,S4,S5,S6,S7,S8,S9,S1...   \n",
       "10  MASTER_SAMPLE,S0,S1,S2,S3,S4,S5,S6,S7,S8,S9,S1...   \n",
       "\n",
       "                              SAMPLE_NODE_FREQUENCIES  \n",
       "0   0.1108,0.1348,0.1639,0.1279,0.1308,0.0694,0.13...  \n",
       "1   0.1040,0.0433,0.1011,0.0234,0.0162,0.1490,0.14...  \n",
       "2   0.0402,0.1069,0.0913,0.1353,0.0782,0.1241,0.13...  \n",
       "3   0.1091,0.0579,0.0356,0.1328,0.0390,0.0702,0.12...  \n",
       "4   0.0230,0.1436,0.0946,0.0690,0.1601,0.0837,0.01...  \n",
       "5   0.0871,0.0989,0.1794,0.1320,0.1038,0.0498,0.12...  \n",
       "6   0.0473,0.1210,0.1064,0.1099,0.0485,0.1455,0.02...  \n",
       "7   0.1127,0.0936,0.0207,0.0461,0.1691,0.0668,0.10...  \n",
       "8   0.1324,0.0482,0.0510,0.1407,0.0725,0.1191,0.03...  \n",
       "9   0.1113,0.0619,0.1170,0.0243,0.1405,0.0145,0.06...  \n",
       "10  0.1221,0.0900,0.0391,0.0586,0.0414,0.1081,0.09...  "
      ]
     },
     "execution_count": 181,
     "metadata": {},
     "output_type": "execute_result"
    }
   ],
   "source": [
    "tree"
   ]
  },
  {
   "cell_type": "code",
   "execution_count": 182,
   "metadata": {},
   "outputs": [
    {
     "data": {
      "image/svg+xml": [
       "<?xml version=\"1.0\" encoding=\"UTF-8\" standalone=\"no\"?>\n",
       "<!DOCTYPE svg PUBLIC \"-//W3C//DTD SVG 1.1//EN\"\n",
       " \"http://www.w3.org/Graphics/SVG/1.1/DTD/svg11.dtd\">\n",
       "<!-- Generated by graphviz version 8.1.0 (0)\n",
       " -->\n",
       "<!-- Title: G Pages: 1 -->\n",
       "<svg width=\"183pt\" height=\"278pt\"\n",
       " viewBox=\"0.00 0.00 183.20 278.00\" xmlns=\"http://www.w3.org/2000/svg\" xmlns:xlink=\"http://www.w3.org/1999/xlink\">\n",
       "<g id=\"graph0\" class=\"graph\" transform=\"scale(1 1) rotate(0) translate(4 274)\">\n",
       "<title>G</title>\n",
       "<polygon fill=\"white\" stroke=\"none\" points=\"-4,4 -4,-274 179.2,-274 179.2,4 -4,4\"/>\n",
       "<!-- ROOT -->\n",
       "<g id=\"node1\" class=\"node\">\n",
       "<title>ROOT</title>\n",
       "<ellipse fill=\"none\" stroke=\"black\" cx=\"76.6\" cy=\"-257.4\" rx=\"12.6\" ry=\"12.6\"/>\n",
       "<text text-anchor=\"middle\" x=\"76.6\" y=\"-254.34\" font-family=\"Times,serif\" font-size=\"8.75\">ROOT</text>\n",
       "</g>\n",
       "<!-- 0 -->\n",
       "<g id=\"node2\" class=\"node\">\n",
       "<title>0</title>\n",
       "<ellipse fill=\"none\" stroke=\"black\" cx=\"76.6\" cy=\"-196.2\" rx=\"12.6\" ry=\"12.6\"/>\n",
       "<text text-anchor=\"middle\" x=\"76.6\" y=\"-193.14\" font-family=\"Times,serif\" font-size=\"8.75\">0</text>\n",
       "</g>\n",
       "<!-- ROOT&#45;&gt;0 -->\n",
       "<g id=\"edge1\" class=\"edge\">\n",
       "<title>ROOT&#45;&gt;0</title>\n",
       "<path fill=\"none\" stroke=\"black\" d=\"M76.6,-244.42C76.6,-235.67 76.6,-223.7 76.6,-214\"/>\n",
       "<polygon fill=\"black\" stroke=\"black\" points=\"78,-214.16 76.6,-210.16 75.2,-214.16 78,-214.16\"/>\n",
       "</g>\n",
       "<!-- 1 -->\n",
       "<g id=\"node3\" class=\"node\">\n",
       "<title>1</title>\n",
       "<ellipse fill=\"none\" stroke=\"black\" cx=\"12.6\" cy=\"-135\" rx=\"12.6\" ry=\"12.6\"/>\n",
       "<text text-anchor=\"middle\" x=\"12.6\" y=\"-131.94\" font-family=\"Times,serif\" font-size=\"8.75\">1</text>\n",
       "</g>\n",
       "<!-- 0&#45;&gt;1 -->\n",
       "<g id=\"edge2\" class=\"edge\">\n",
       "<title>0&#45;&gt;1</title>\n",
       "<path fill=\"none\" stroke=\"black\" d=\"M67.7,-186.97C56.62,-176.72 37.63,-159.15 25.09,-147.55\"/>\n",
       "<polygon fill=\"black\" stroke=\"black\" points=\"26.31,-146.85 22.42,-145.16 24.41,-148.91 26.31,-146.85\"/>\n",
       "</g>\n",
       "<!-- 2 -->\n",
       "<g id=\"node4\" class=\"node\">\n",
       "<title>2</title>\n",
       "<ellipse fill=\"none\" stroke=\"black\" cx=\"55.6\" cy=\"-135\" rx=\"12.6\" ry=\"12.6\"/>\n",
       "<text text-anchor=\"middle\" x=\"55.6\" y=\"-131.94\" font-family=\"Times,serif\" font-size=\"8.75\">2</text>\n",
       "</g>\n",
       "<!-- 0&#45;&gt;2 -->\n",
       "<g id=\"edge3\" class=\"edge\">\n",
       "<title>0&#45;&gt;2</title>\n",
       "<path fill=\"none\" stroke=\"black\" d=\"M72.55,-183.79C69.36,-174.78 64.86,-162.1 61.3,-152.06\"/>\n",
       "<polygon fill=\"black\" stroke=\"black\" points=\"62.29,-151.68 59.64,-148.38 59.65,-152.62 62.29,-151.68\"/>\n",
       "</g>\n",
       "<!-- 4 -->\n",
       "<g id=\"node6\" class=\"node\">\n",
       "<title>4</title>\n",
       "<ellipse fill=\"none\" stroke=\"black\" cx=\"98.6\" cy=\"-135\" rx=\"12.6\" ry=\"12.6\"/>\n",
       "<text text-anchor=\"middle\" x=\"98.6\" y=\"-131.94\" font-family=\"Times,serif\" font-size=\"8.75\">4</text>\n",
       "</g>\n",
       "<!-- 0&#45;&gt;4 -->\n",
       "<g id=\"edge5\" class=\"edge\">\n",
       "<title>0&#45;&gt;4</title>\n",
       "<path fill=\"none\" stroke=\"black\" d=\"M80.74,-184.06C84.15,-174.89 89.03,-161.76 92.82,-151.55\"/>\n",
       "<polygon fill=\"black\" stroke=\"black\" points=\"94.4,-152.32 94.48,-148.09 91.77,-151.35 94.4,-152.32\"/>\n",
       "</g>\n",
       "<!-- 7 -->\n",
       "<g id=\"node9\" class=\"node\">\n",
       "<title>7</title>\n",
       "<ellipse fill=\"none\" stroke=\"black\" cx=\"141.6\" cy=\"-135\" rx=\"12.6\" ry=\"12.6\"/>\n",
       "<text text-anchor=\"middle\" x=\"141.6\" y=\"-131.94\" font-family=\"Times,serif\" font-size=\"8.75\">7</text>\n",
       "</g>\n",
       "<!-- 0&#45;&gt;7 -->\n",
       "<g id=\"edge8\" class=\"edge\">\n",
       "<title>0&#45;&gt;7</title>\n",
       "<path fill=\"none\" stroke=\"black\" d=\"M85.64,-186.97C96.99,-176.63 116.52,-158.85 129.24,-147.25\"/>\n",
       "<polygon fill=\"black\" stroke=\"black\" points=\"129.62,-148.89 131.64,-145.16 127.74,-146.82 129.62,-148.89\"/>\n",
       "</g>\n",
       "<!-- 3 -->\n",
       "<g id=\"node5\" class=\"node\">\n",
       "<title>3</title>\n",
       "<ellipse fill=\"none\" stroke=\"black\" cx=\"12.6\" cy=\"-73.8\" rx=\"12.6\" ry=\"12.6\"/>\n",
       "<text text-anchor=\"middle\" x=\"12.6\" y=\"-70.74\" font-family=\"Times,serif\" font-size=\"8.75\">3</text>\n",
       "</g>\n",
       "<!-- 1&#45;&gt;3 -->\n",
       "<g id=\"edge4\" class=\"edge\">\n",
       "<title>1&#45;&gt;3</title>\n",
       "<path fill=\"none\" stroke=\"black\" d=\"M12.6,-122.02C12.6,-113.27 12.6,-101.3 12.6,-91.6\"/>\n",
       "<polygon fill=\"black\" stroke=\"black\" points=\"14,-91.76 12.6,-87.76 11.2,-91.76 14,-91.76\"/>\n",
       "</g>\n",
       "<!-- 6 -->\n",
       "<g id=\"node8\" class=\"node\">\n",
       "<title>6</title>\n",
       "<ellipse fill=\"none\" stroke=\"black\" cx=\"55.6\" cy=\"-73.8\" rx=\"12.6\" ry=\"12.6\"/>\n",
       "<text text-anchor=\"middle\" x=\"55.6\" y=\"-70.74\" font-family=\"Times,serif\" font-size=\"8.75\">6</text>\n",
       "</g>\n",
       "<!-- 2&#45;&gt;6 -->\n",
       "<g id=\"edge7\" class=\"edge\">\n",
       "<title>2&#45;&gt;6</title>\n",
       "<path fill=\"none\" stroke=\"black\" d=\"M55.6,-122.02C55.6,-113.27 55.6,-101.3 55.6,-91.6\"/>\n",
       "<polygon fill=\"black\" stroke=\"black\" points=\"57,-91.76 55.6,-87.76 54.2,-91.76 57,-91.76\"/>\n",
       "</g>\n",
       "<!-- 5 -->\n",
       "<g id=\"node7\" class=\"node\">\n",
       "<title>5</title>\n",
       "<ellipse fill=\"none\" stroke=\"black\" cx=\"12.6\" cy=\"-12.6\" rx=\"12.6\" ry=\"12.6\"/>\n",
       "<text text-anchor=\"middle\" x=\"12.6\" y=\"-9.54\" font-family=\"Times,serif\" font-size=\"8.75\">5</text>\n",
       "</g>\n",
       "<!-- 3&#45;&gt;5 -->\n",
       "<g id=\"edge6\" class=\"edge\">\n",
       "<title>3&#45;&gt;5</title>\n",
       "<path fill=\"none\" stroke=\"black\" d=\"M12.6,-60.82C12.6,-52.07 12.6,-40.1 12.6,-30.4\"/>\n",
       "<polygon fill=\"black\" stroke=\"black\" points=\"14,-30.56 12.6,-26.56 11.2,-30.56 14,-30.56\"/>\n",
       "</g>\n",
       "<!-- 8 -->\n",
       "<g id=\"node10\" class=\"node\">\n",
       "<title>8</title>\n",
       "<ellipse fill=\"none\" stroke=\"black\" cx=\"119.6\" cy=\"-73.8\" rx=\"12.6\" ry=\"12.6\"/>\n",
       "<text text-anchor=\"middle\" x=\"119.6\" y=\"-70.74\" font-family=\"Times,serif\" font-size=\"8.75\">8</text>\n",
       "</g>\n",
       "<!-- 7&#45;&gt;8 -->\n",
       "<g id=\"edge9\" class=\"edge\">\n",
       "<title>7&#45;&gt;8</title>\n",
       "<path fill=\"none\" stroke=\"black\" d=\"M137.46,-122.86C134.05,-113.69 129.17,-100.56 125.38,-90.35\"/>\n",
       "<polygon fill=\"black\" stroke=\"black\" points=\"126.43,-90.15 123.72,-86.89 123.8,-91.12 126.43,-90.15\"/>\n",
       "</g>\n",
       "<!-- 9 -->\n",
       "<g id=\"node11\" class=\"node\">\n",
       "<title>9</title>\n",
       "<ellipse fill=\"none\" stroke=\"black\" cx=\"162.6\" cy=\"-73.8\" rx=\"12.6\" ry=\"12.6\"/>\n",
       "<text text-anchor=\"middle\" x=\"162.6\" y=\"-70.74\" font-family=\"Times,serif\" font-size=\"8.75\">9</text>\n",
       "</g>\n",
       "<!-- 7&#45;&gt;9 -->\n",
       "<g id=\"edge10\" class=\"edge\">\n",
       "<title>7&#45;&gt;9</title>\n",
       "<path fill=\"none\" stroke=\"black\" d=\"M145.65,-122.59C148.84,-113.58 153.34,-100.9 156.9,-90.86\"/>\n",
       "<polygon fill=\"black\" stroke=\"black\" points=\"158.55,-91.42 158.56,-87.18 155.91,-90.48 158.55,-91.42\"/>\n",
       "</g>\n",
       "</g>\n",
       "</svg>\n"
      ],
      "text/plain": [
       "<graphviz.graphs.Digraph at 0x16c6bda50>"
      ]
     },
     "execution_count": 182,
     "metadata": {},
     "output_type": "execute_result"
    }
   ],
   "source": [
    "tree_dict = tree.set_index('NODE_ID')['PARENT_ID'].to_dict()\n",
    "del tree_dict['ROOT']\n",
    "graph = create_graph_from_dict(tree_dict, '')\n",
    "\n",
    "graph"
   ]
  },
  {
   "cell_type": "markdown",
   "metadata": {},
   "source": [
    "As an example to how the RF distance can be used, consider that our tool, `DETOPT`, \\\n",
    "**assigns a mutation erroneously** to node (subclone) 9, instead of node (subclone) 3.\n"
   ]
  },
  {
   "cell_type": "markdown",
   "metadata": {},
   "source": [
    "We swap the labels of node 3 and node 9, and then delete node 9 to reflect that \\\n",
    "the mutation was incorrectly placed."
   ]
  },
  {
   "cell_type": "code",
   "execution_count": 183,
   "metadata": {},
   "outputs": [],
   "source": [
    "incorrect_assign_tree_dict = deepcopy(tree_dict)"
   ]
  },
  {
   "cell_type": "code",
   "execution_count": 184,
   "metadata": {},
   "outputs": [],
   "source": [
    "incorrect_assign_tree_dict['3'] = '7'\n",
    "incorrect_assign_tree_dict['5'] = '1'\n",
    "\n",
    "del incorrect_assign_tree_dict['9']"
   ]
  },
  {
   "cell_type": "code",
   "execution_count": 185,
   "metadata": {},
   "outputs": [
    {
     "data": {
      "image/svg+xml": [
       "<?xml version=\"1.0\" encoding=\"UTF-8\" standalone=\"no\"?>\n",
       "<!DOCTYPE svg PUBLIC \"-//W3C//DTD SVG 1.1//EN\"\n",
       " \"http://www.w3.org/Graphics/SVG/1.1/DTD/svg11.dtd\">\n",
       "<!-- Generated by graphviz version 8.1.0 (0)\n",
       " -->\n",
       "<!-- Title: G Pages: 1 -->\n",
       "<svg width=\"162pt\" height=\"217pt\"\n",
       " viewBox=\"0.00 0.00 162.20 216.80\" xmlns=\"http://www.w3.org/2000/svg\" xmlns:xlink=\"http://www.w3.org/1999/xlink\">\n",
       "<g id=\"graph0\" class=\"graph\" transform=\"scale(1 1) rotate(0) translate(4 212.8)\">\n",
       "<title>G</title>\n",
       "<polygon fill=\"white\" stroke=\"none\" points=\"-4,4 -4,-212.8 158.2,-212.8 158.2,4 -4,4\"/>\n",
       "<!-- ROOT -->\n",
       "<g id=\"node1\" class=\"node\">\n",
       "<title>ROOT</title>\n",
       "<ellipse fill=\"none\" stroke=\"black\" cx=\"76.6\" cy=\"-196.2\" rx=\"12.6\" ry=\"12.6\"/>\n",
       "<text text-anchor=\"middle\" x=\"76.6\" y=\"-193.14\" font-family=\"Times,serif\" font-size=\"8.75\">ROOT</text>\n",
       "</g>\n",
       "<!-- 0 -->\n",
       "<g id=\"node2\" class=\"node\">\n",
       "<title>0</title>\n",
       "<ellipse fill=\"none\" stroke=\"black\" cx=\"76.6\" cy=\"-135\" rx=\"12.6\" ry=\"12.6\"/>\n",
       "<text text-anchor=\"middle\" x=\"76.6\" y=\"-131.94\" font-family=\"Times,serif\" font-size=\"8.75\">0</text>\n",
       "</g>\n",
       "<!-- ROOT&#45;&gt;0 -->\n",
       "<g id=\"edge1\" class=\"edge\">\n",
       "<title>ROOT&#45;&gt;0</title>\n",
       "<path fill=\"none\" stroke=\"black\" d=\"M76.6,-183.22C76.6,-174.47 76.6,-162.5 76.6,-152.8\"/>\n",
       "<polygon fill=\"black\" stroke=\"black\" points=\"78,-152.96 76.6,-148.96 75.2,-152.96 78,-152.96\"/>\n",
       "</g>\n",
       "<!-- 1 -->\n",
       "<g id=\"node3\" class=\"node\">\n",
       "<title>1</title>\n",
       "<ellipse fill=\"none\" stroke=\"black\" cx=\"12.6\" cy=\"-73.8\" rx=\"12.6\" ry=\"12.6\"/>\n",
       "<text text-anchor=\"middle\" x=\"12.6\" y=\"-70.74\" font-family=\"Times,serif\" font-size=\"8.75\">1</text>\n",
       "</g>\n",
       "<!-- 0&#45;&gt;1 -->\n",
       "<g id=\"edge2\" class=\"edge\">\n",
       "<title>0&#45;&gt;1</title>\n",
       "<path fill=\"none\" stroke=\"black\" d=\"M67.7,-125.77C56.62,-115.52 37.63,-97.95 25.09,-86.35\"/>\n",
       "<polygon fill=\"black\" stroke=\"black\" points=\"26.31,-85.65 22.42,-83.96 24.41,-87.71 26.31,-85.65\"/>\n",
       "</g>\n",
       "<!-- 2 -->\n",
       "<g id=\"node4\" class=\"node\">\n",
       "<title>2</title>\n",
       "<ellipse fill=\"none\" stroke=\"black\" cx=\"55.6\" cy=\"-73.8\" rx=\"12.6\" ry=\"12.6\"/>\n",
       "<text text-anchor=\"middle\" x=\"55.6\" y=\"-70.74\" font-family=\"Times,serif\" font-size=\"8.75\">2</text>\n",
       "</g>\n",
       "<!-- 0&#45;&gt;2 -->\n",
       "<g id=\"edge3\" class=\"edge\">\n",
       "<title>0&#45;&gt;2</title>\n",
       "<path fill=\"none\" stroke=\"black\" d=\"M72.55,-122.59C69.36,-113.58 64.86,-100.9 61.3,-90.86\"/>\n",
       "<polygon fill=\"black\" stroke=\"black\" points=\"62.29,-90.48 59.64,-87.18 59.65,-91.42 62.29,-90.48\"/>\n",
       "</g>\n",
       "<!-- 7 -->\n",
       "<g id=\"node5\" class=\"node\">\n",
       "<title>7</title>\n",
       "<ellipse fill=\"none\" stroke=\"black\" cx=\"98.6\" cy=\"-73.8\" rx=\"12.6\" ry=\"12.6\"/>\n",
       "<text text-anchor=\"middle\" x=\"98.6\" y=\"-70.74\" font-family=\"Times,serif\" font-size=\"8.75\">7</text>\n",
       "</g>\n",
       "<!-- 0&#45;&gt;7 -->\n",
       "<g id=\"edge8\" class=\"edge\">\n",
       "<title>0&#45;&gt;7</title>\n",
       "<path fill=\"none\" stroke=\"black\" d=\"M80.74,-122.86C84.15,-113.69 89.03,-100.56 92.82,-90.35\"/>\n",
       "<polygon fill=\"black\" stroke=\"black\" points=\"94.4,-91.12 94.48,-86.89 91.77,-90.15 94.4,-91.12\"/>\n",
       "</g>\n",
       "<!-- 4 -->\n",
       "<g id=\"node7\" class=\"node\">\n",
       "<title>4</title>\n",
       "<ellipse fill=\"none\" stroke=\"black\" cx=\"141.6\" cy=\"-73.8\" rx=\"12.6\" ry=\"12.6\"/>\n",
       "<text text-anchor=\"middle\" x=\"141.6\" y=\"-70.74\" font-family=\"Times,serif\" font-size=\"8.75\">4</text>\n",
       "</g>\n",
       "<!-- 0&#45;&gt;4 -->\n",
       "<g id=\"edge5\" class=\"edge\">\n",
       "<title>0&#45;&gt;4</title>\n",
       "<path fill=\"none\" stroke=\"black\" d=\"M85.64,-125.77C96.99,-115.43 116.52,-97.65 129.24,-86.05\"/>\n",
       "<polygon fill=\"black\" stroke=\"black\" points=\"129.62,-87.69 131.64,-83.96 127.74,-85.62 129.62,-87.69\"/>\n",
       "</g>\n",
       "<!-- 5 -->\n",
       "<g id=\"node8\" class=\"node\">\n",
       "<title>5</title>\n",
       "<ellipse fill=\"none\" stroke=\"black\" cx=\"12.6\" cy=\"-12.6\" rx=\"12.6\" ry=\"12.6\"/>\n",
       "<text text-anchor=\"middle\" x=\"12.6\" y=\"-9.54\" font-family=\"Times,serif\" font-size=\"8.75\">5</text>\n",
       "</g>\n",
       "<!-- 1&#45;&gt;5 -->\n",
       "<g id=\"edge6\" class=\"edge\">\n",
       "<title>1&#45;&gt;5</title>\n",
       "<path fill=\"none\" stroke=\"black\" d=\"M12.6,-60.82C12.6,-52.07 12.6,-40.1 12.6,-30.4\"/>\n",
       "<polygon fill=\"black\" stroke=\"black\" points=\"14,-30.56 12.6,-26.56 11.2,-30.56 14,-30.56\"/>\n",
       "</g>\n",
       "<!-- 6 -->\n",
       "<g id=\"node9\" class=\"node\">\n",
       "<title>6</title>\n",
       "<ellipse fill=\"none\" stroke=\"black\" cx=\"55.6\" cy=\"-12.6\" rx=\"12.6\" ry=\"12.6\"/>\n",
       "<text text-anchor=\"middle\" x=\"55.6\" y=\"-9.54\" font-family=\"Times,serif\" font-size=\"8.75\">6</text>\n",
       "</g>\n",
       "<!-- 2&#45;&gt;6 -->\n",
       "<g id=\"edge7\" class=\"edge\">\n",
       "<title>2&#45;&gt;6</title>\n",
       "<path fill=\"none\" stroke=\"black\" d=\"M55.6,-60.82C55.6,-52.07 55.6,-40.1 55.6,-30.4\"/>\n",
       "<polygon fill=\"black\" stroke=\"black\" points=\"57,-30.56 55.6,-26.56 54.2,-30.56 57,-30.56\"/>\n",
       "</g>\n",
       "<!-- 3 -->\n",
       "<g id=\"node6\" class=\"node\">\n",
       "<title>3</title>\n",
       "<ellipse fill=\"none\" stroke=\"black\" cx=\"98.6\" cy=\"-12.6\" rx=\"12.6\" ry=\"12.6\"/>\n",
       "<text text-anchor=\"middle\" x=\"98.6\" y=\"-9.54\" font-family=\"Times,serif\" font-size=\"8.75\">3</text>\n",
       "</g>\n",
       "<!-- 7&#45;&gt;3 -->\n",
       "<g id=\"edge4\" class=\"edge\">\n",
       "<title>7&#45;&gt;3</title>\n",
       "<path fill=\"none\" stroke=\"black\" d=\"M98.6,-60.82C98.6,-52.07 98.6,-40.1 98.6,-30.4\"/>\n",
       "<polygon fill=\"black\" stroke=\"black\" points=\"100,-30.56 98.6,-26.56 97.2,-30.56 100,-30.56\"/>\n",
       "</g>\n",
       "<!-- 8 -->\n",
       "<g id=\"node10\" class=\"node\">\n",
       "<title>8</title>\n",
       "<ellipse fill=\"none\" stroke=\"black\" cx=\"141.6\" cy=\"-12.6\" rx=\"12.6\" ry=\"12.6\"/>\n",
       "<text text-anchor=\"middle\" x=\"141.6\" y=\"-9.54\" font-family=\"Times,serif\" font-size=\"8.75\">8</text>\n",
       "</g>\n",
       "<!-- 7&#45;&gt;8 -->\n",
       "<g id=\"edge9\" class=\"edge\">\n",
       "<title>7&#45;&gt;8</title>\n",
       "<path fill=\"none\" stroke=\"black\" d=\"M105.7,-63.02C112.84,-53.2 123.9,-37.97 131.85,-27.02\"/>\n",
       "<polygon fill=\"black\" stroke=\"black\" points=\"133.41,-28.25 134.63,-24.19 131.15,-26.61 133.41,-28.25\"/>\n",
       "</g>\n",
       "</g>\n",
       "</svg>\n"
      ],
      "text/plain": [
       "<graphviz.graphs.Digraph at 0x16c6bdd20>"
      ]
     },
     "execution_count": 185,
     "metadata": {},
     "output_type": "execute_result"
    }
   ],
   "source": [
    "graph_ex = create_graph_from_dict(incorrect_assign_tree_dict, '')\n",
    "graph_ex"
   ]
  },
  {
   "cell_type": "markdown",
   "metadata": {},
   "source": [
    "We augment the ground-truth tree such that it is the induced subtree on the \\\n",
    "set of leaves of the tree above, i.e., delete node 9 from the original tree."
   ]
  },
  {
   "cell_type": "code",
   "execution_count": 186,
   "metadata": {},
   "outputs": [
    {
     "data": {
      "image/svg+xml": [
       "<?xml version=\"1.0\" encoding=\"UTF-8\" standalone=\"no\"?>\n",
       "<!DOCTYPE svg PUBLIC \"-//W3C//DTD SVG 1.1//EN\"\n",
       " \"http://www.w3.org/Graphics/SVG/1.1/DTD/svg11.dtd\">\n",
       "<!-- Generated by graphviz version 8.1.0 (0)\n",
       " -->\n",
       "<!-- Title: G Pages: 1 -->\n",
       "<svg width=\"162pt\" height=\"278pt\"\n",
       " viewBox=\"0.00 0.00 162.20 278.00\" xmlns=\"http://www.w3.org/2000/svg\" xmlns:xlink=\"http://www.w3.org/1999/xlink\">\n",
       "<g id=\"graph0\" class=\"graph\" transform=\"scale(1 1) rotate(0) translate(4 274)\">\n",
       "<title>G</title>\n",
       "<polygon fill=\"white\" stroke=\"none\" points=\"-4,4 -4,-274 158.2,-274 158.2,4 -4,4\"/>\n",
       "<!-- ROOT -->\n",
       "<g id=\"node1\" class=\"node\">\n",
       "<title>ROOT</title>\n",
       "<ellipse fill=\"none\" stroke=\"black\" cx=\"76.6\" cy=\"-257.4\" rx=\"12.6\" ry=\"12.6\"/>\n",
       "<text text-anchor=\"middle\" x=\"76.6\" y=\"-254.34\" font-family=\"Times,serif\" font-size=\"8.75\">ROOT</text>\n",
       "</g>\n",
       "<!-- 0 -->\n",
       "<g id=\"node2\" class=\"node\">\n",
       "<title>0</title>\n",
       "<ellipse fill=\"none\" stroke=\"black\" cx=\"76.6\" cy=\"-196.2\" rx=\"12.6\" ry=\"12.6\"/>\n",
       "<text text-anchor=\"middle\" x=\"76.6\" y=\"-193.14\" font-family=\"Times,serif\" font-size=\"8.75\">0</text>\n",
       "</g>\n",
       "<!-- ROOT&#45;&gt;0 -->\n",
       "<g id=\"edge1\" class=\"edge\">\n",
       "<title>ROOT&#45;&gt;0</title>\n",
       "<path fill=\"none\" stroke=\"black\" d=\"M76.6,-244.42C76.6,-235.67 76.6,-223.7 76.6,-214\"/>\n",
       "<polygon fill=\"black\" stroke=\"black\" points=\"78,-214.16 76.6,-210.16 75.2,-214.16 78,-214.16\"/>\n",
       "</g>\n",
       "<!-- 1 -->\n",
       "<g id=\"node3\" class=\"node\">\n",
       "<title>1</title>\n",
       "<ellipse fill=\"none\" stroke=\"black\" cx=\"12.6\" cy=\"-135\" rx=\"12.6\" ry=\"12.6\"/>\n",
       "<text text-anchor=\"middle\" x=\"12.6\" y=\"-131.94\" font-family=\"Times,serif\" font-size=\"8.75\">1</text>\n",
       "</g>\n",
       "<!-- 0&#45;&gt;1 -->\n",
       "<g id=\"edge2\" class=\"edge\">\n",
       "<title>0&#45;&gt;1</title>\n",
       "<path fill=\"none\" stroke=\"black\" d=\"M67.7,-186.97C56.62,-176.72 37.63,-159.15 25.09,-147.55\"/>\n",
       "<polygon fill=\"black\" stroke=\"black\" points=\"26.31,-146.85 22.42,-145.16 24.41,-148.91 26.31,-146.85\"/>\n",
       "</g>\n",
       "<!-- 2 -->\n",
       "<g id=\"node4\" class=\"node\">\n",
       "<title>2</title>\n",
       "<ellipse fill=\"none\" stroke=\"black\" cx=\"55.6\" cy=\"-135\" rx=\"12.6\" ry=\"12.6\"/>\n",
       "<text text-anchor=\"middle\" x=\"55.6\" y=\"-131.94\" font-family=\"Times,serif\" font-size=\"8.75\">2</text>\n",
       "</g>\n",
       "<!-- 0&#45;&gt;2 -->\n",
       "<g id=\"edge3\" class=\"edge\">\n",
       "<title>0&#45;&gt;2</title>\n",
       "<path fill=\"none\" stroke=\"black\" d=\"M72.55,-183.79C69.36,-174.78 64.86,-162.1 61.3,-152.06\"/>\n",
       "<polygon fill=\"black\" stroke=\"black\" points=\"62.29,-151.68 59.64,-148.38 59.65,-152.62 62.29,-151.68\"/>\n",
       "</g>\n",
       "<!-- 4 -->\n",
       "<g id=\"node6\" class=\"node\">\n",
       "<title>4</title>\n",
       "<ellipse fill=\"none\" stroke=\"black\" cx=\"98.6\" cy=\"-135\" rx=\"12.6\" ry=\"12.6\"/>\n",
       "<text text-anchor=\"middle\" x=\"98.6\" y=\"-131.94\" font-family=\"Times,serif\" font-size=\"8.75\">4</text>\n",
       "</g>\n",
       "<!-- 0&#45;&gt;4 -->\n",
       "<g id=\"edge5\" class=\"edge\">\n",
       "<title>0&#45;&gt;4</title>\n",
       "<path fill=\"none\" stroke=\"black\" d=\"M80.74,-184.06C84.15,-174.89 89.03,-161.76 92.82,-151.55\"/>\n",
       "<polygon fill=\"black\" stroke=\"black\" points=\"94.4,-152.32 94.48,-148.09 91.77,-151.35 94.4,-152.32\"/>\n",
       "</g>\n",
       "<!-- 7 -->\n",
       "<g id=\"node9\" class=\"node\">\n",
       "<title>7</title>\n",
       "<ellipse fill=\"none\" stroke=\"black\" cx=\"141.6\" cy=\"-135\" rx=\"12.6\" ry=\"12.6\"/>\n",
       "<text text-anchor=\"middle\" x=\"141.6\" y=\"-131.94\" font-family=\"Times,serif\" font-size=\"8.75\">7</text>\n",
       "</g>\n",
       "<!-- 0&#45;&gt;7 -->\n",
       "<g id=\"edge8\" class=\"edge\">\n",
       "<title>0&#45;&gt;7</title>\n",
       "<path fill=\"none\" stroke=\"black\" d=\"M85.64,-186.97C96.99,-176.63 116.52,-158.85 129.24,-147.25\"/>\n",
       "<polygon fill=\"black\" stroke=\"black\" points=\"129.62,-148.89 131.64,-145.16 127.74,-146.82 129.62,-148.89\"/>\n",
       "</g>\n",
       "<!-- 3 -->\n",
       "<g id=\"node5\" class=\"node\">\n",
       "<title>3</title>\n",
       "<ellipse fill=\"none\" stroke=\"black\" cx=\"12.6\" cy=\"-73.8\" rx=\"12.6\" ry=\"12.6\"/>\n",
       "<text text-anchor=\"middle\" x=\"12.6\" y=\"-70.74\" font-family=\"Times,serif\" font-size=\"8.75\">3</text>\n",
       "</g>\n",
       "<!-- 1&#45;&gt;3 -->\n",
       "<g id=\"edge4\" class=\"edge\">\n",
       "<title>1&#45;&gt;3</title>\n",
       "<path fill=\"none\" stroke=\"black\" d=\"M12.6,-122.02C12.6,-113.27 12.6,-101.3 12.6,-91.6\"/>\n",
       "<polygon fill=\"black\" stroke=\"black\" points=\"14,-91.76 12.6,-87.76 11.2,-91.76 14,-91.76\"/>\n",
       "</g>\n",
       "<!-- 6 -->\n",
       "<g id=\"node8\" class=\"node\">\n",
       "<title>6</title>\n",
       "<ellipse fill=\"none\" stroke=\"black\" cx=\"55.6\" cy=\"-73.8\" rx=\"12.6\" ry=\"12.6\"/>\n",
       "<text text-anchor=\"middle\" x=\"55.6\" y=\"-70.74\" font-family=\"Times,serif\" font-size=\"8.75\">6</text>\n",
       "</g>\n",
       "<!-- 2&#45;&gt;6 -->\n",
       "<g id=\"edge7\" class=\"edge\">\n",
       "<title>2&#45;&gt;6</title>\n",
       "<path fill=\"none\" stroke=\"black\" d=\"M55.6,-122.02C55.6,-113.27 55.6,-101.3 55.6,-91.6\"/>\n",
       "<polygon fill=\"black\" stroke=\"black\" points=\"57,-91.76 55.6,-87.76 54.2,-91.76 57,-91.76\"/>\n",
       "</g>\n",
       "<!-- 5 -->\n",
       "<g id=\"node7\" class=\"node\">\n",
       "<title>5</title>\n",
       "<ellipse fill=\"none\" stroke=\"black\" cx=\"12.6\" cy=\"-12.6\" rx=\"12.6\" ry=\"12.6\"/>\n",
       "<text text-anchor=\"middle\" x=\"12.6\" y=\"-9.54\" font-family=\"Times,serif\" font-size=\"8.75\">5</text>\n",
       "</g>\n",
       "<!-- 3&#45;&gt;5 -->\n",
       "<g id=\"edge6\" class=\"edge\">\n",
       "<title>3&#45;&gt;5</title>\n",
       "<path fill=\"none\" stroke=\"black\" d=\"M12.6,-60.82C12.6,-52.07 12.6,-40.1 12.6,-30.4\"/>\n",
       "<polygon fill=\"black\" stroke=\"black\" points=\"14,-30.56 12.6,-26.56 11.2,-30.56 14,-30.56\"/>\n",
       "</g>\n",
       "<!-- 8 -->\n",
       "<g id=\"node10\" class=\"node\">\n",
       "<title>8</title>\n",
       "<ellipse fill=\"none\" stroke=\"black\" cx=\"141.6\" cy=\"-73.8\" rx=\"12.6\" ry=\"12.6\"/>\n",
       "<text text-anchor=\"middle\" x=\"141.6\" y=\"-70.74\" font-family=\"Times,serif\" font-size=\"8.75\">8</text>\n",
       "</g>\n",
       "<!-- 7&#45;&gt;8 -->\n",
       "<g id=\"edge9\" class=\"edge\">\n",
       "<title>7&#45;&gt;8</title>\n",
       "<path fill=\"none\" stroke=\"black\" d=\"M141.6,-122.02C141.6,-113.27 141.6,-101.3 141.6,-91.6\"/>\n",
       "<polygon fill=\"black\" stroke=\"black\" points=\"143,-91.76 141.6,-87.76 140.2,-91.76 143,-91.76\"/>\n",
       "</g>\n",
       "</g>\n",
       "</svg>\n"
      ],
      "text/plain": [
       "<graphviz.graphs.Digraph at 0x16c6beec0>"
      ]
     },
     "execution_count": 186,
     "metadata": {},
     "output_type": "execute_result"
    }
   ],
   "source": [
    "del tree_dict['9'] \n",
    "graph = create_graph_from_dict(tree_dict, '')\n",
    "\n",
    "graph"
   ]
  },
  {
   "cell_type": "markdown",
   "metadata": {},
   "source": [
    "We generate the unrooted representation of these clonal trees and \\\n",
    "calculate the RF distance."
   ]
  },
  {
   "cell_type": "code",
   "execution_count": 187,
   "metadata": {},
   "outputs": [
    {
     "data": {
      "image/png": "[encoded data removed]",
      "text/plain": [
       "<Figure size 640x480 with 1 Axes>"
      ]
     },
     "metadata": {},
     "output_type": "display_data"
    }
   ],
   "source": [
    "tree_dict_not_ext = deepcopy(tree_dict)\n",
    "del tree_dict_not_ext['0']\n",
    "graph_unrooted = create_undirected_graph_from_dict(tree_dict_not_ext)"
   ]
  },
  {
   "cell_type": "code",
   "execution_count": 188,
   "metadata": {},
   "outputs": [
    {
     "data": {
      "image/png": "[encoded data removed]",
      "text/plain": [
       "<Figure size 640x480 with 1 Axes>"
      ]
     },
     "metadata": {},
     "output_type": "display_data"
    }
   ],
   "source": [
    "del incorrect_assign_tree_dict['0']\n",
    "graph_ex_unrooted = create_graph_from_dict(incorrect_assign_tree_dict, '')\n",
    "graph_ex_unrooted = create_undirected_graph_from_dict(incorrect_assign_tree_dict)"
   ]
  },
  {
   "cell_type": "code",
   "execution_count": 189,
   "metadata": {},
   "outputs": [
    {
     "data": {
      "text/plain": [
       "['135|024678', '35|0124678', '26|0134578', '78|0123456']"
      ]
     },
     "execution_count": 189,
     "metadata": {},
     "output_type": "execute_result"
    }
   ],
   "source": [
    "get_bipartitions(graph_unrooted)"
   ]
  },
  {
   "cell_type": "code",
   "execution_count": 190,
   "metadata": {},
   "outputs": [
    {
     "data": {
      "text/plain": [
       "['15|0234678', '26|0134578', '378|012456']"
      ]
     },
     "execution_count": 190,
     "metadata": {},
     "output_type": "execute_result"
    }
   ],
   "source": [
    "get_bipartitions(graph_ex_unrooted)"
   ]
  },
  {
   "cell_type": "code",
   "execution_count": 192,
   "metadata": {},
   "outputs": [
    {
     "name": "stdout",
     "output_type": "stream",
     "text": [
      "The RF distance between these two trees is: 5\n"
     ]
    }
   ],
   "source": [
    "rf_dist = robinson_foulds_distance(get_bipartitions(graph_unrooted), get_bipartitions(graph_ex_unrooted))\n",
    "print(f'The RF distance between these two trees is: {rf_dist}')"
   ]
  },
  {
   "cell_type": "markdown",
   "metadata": {},
   "source": [
    "We take the average RF distance for all incorrectly assigned mutations \\\n",
    "as an approximation of the tree error."
   ]
  },
  {
   "cell_type": "code",
   "execution_count": null,
   "metadata": {},
   "outputs": [],
   "source": []
  }
 ],
 "metadata": {
  "kernelspec": {
   "display_name": "detopt",
   "language": "python",
   "name": "python3"
  },
  "language_info": {
   "codemirror_mode": {
    "name": "ipython",
    "version": 3
   },
   "file_extension": ".py",
   "mimetype": "text/x-python",
   "name": "python",
   "nbconvert_exporter": "python",
   "pygments_lexer": "ipython3",
   "version": "3.10.12"
  }
 },
 "nbformat": 4,
 "nbformat_minor": 2
}
