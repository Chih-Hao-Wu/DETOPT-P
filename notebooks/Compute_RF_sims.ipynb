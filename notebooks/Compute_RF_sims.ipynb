{
 "cells": [
  {
   "cell_type": "code",
   "execution_count": 1,
   "metadata": {},
   "outputs": [],
   "source": [
    "# evaluate RF"
   ]
  },
  {
   "cell_type": "code",
   "execution_count": 78,
   "metadata": {},
   "outputs": [],
   "source": [
    "import pandas as pd\n",
    "from graphviz import Digraph\n",
    "from copy import deepcopy\n",
    "\n",
    "import networkx as nx"
   ]
  },
  {
   "cell_type": "code",
   "execution_count": 90,
   "metadata": {},
   "outputs": [],
   "source": [
    "def create_graph_from_dict(tree_dict, output_file=''):\n",
    "    # draw a tree from child parent dictionary\n",
    "    graph = Digraph('G', format='png')\n",
    "    \n",
    "    # node attributes\n",
    "    graph.attr('node', \n",
    "               shape='circle',\n",
    "               fixedsize='true', \n",
    "               width='0.35', \n",
    "               height='0.35',\n",
    "               fontsize='8.75'\n",
    "               )\n",
    "    \n",
    "    # edge attributes\n",
    "    graph.attr('edge', \n",
    "               arrowsize='0.4',\n",
    "               splines='false'\n",
    "               )\n",
    "    \n",
    "    # convert dictionary, mapping child to parent, to edges\n",
    "    edges = [(parent, child) for child, parent in tree_dict.items()]\n",
    "\n",
    "    # add the edges to the graph\n",
    "    for parent, child in edges:\n",
    "        graph.edge(parent, child)\n",
    "\n",
    "    return graph\n",
    "\n",
    "def create_undirected_graph_from_dict(tree_dict):\n",
    "    # add nodes/edges to graph, networkx object\n",
    "    graph = nx.Graph(tree_dict)\n",
    "    \n",
    "    # get layout of nodes\n",
    "    pos = nx.spring_layout(graph)\n",
    "    \n",
    "    nx.draw(graph, \n",
    "            pos, \n",
    "            with_labels=True, \n",
    "            node_size=500, \n",
    "            node_color='lightgrey', \n",
    "            font_family='Arial'\n",
    "            )\n",
    "    \n",
    "    return graph\n",
    "\n",
    "def create_undirected_graph(graph, pos):    \n",
    "    # drawing function given graph and layout\n",
    "    nx.draw(graph, \n",
    "            pos, \n",
    "            with_labels=True, \n",
    "            node_size=500, \n",
    "            node_color='lightgrey', \n",
    "            font_family='Arial'\n",
    "            )\n",
    "    \n",
    "    return graph"
   ]
  },
  {
   "cell_type": "code",
   "execution_count": 91,
   "metadata": {},
   "outputs": [],
   "source": [
    "OUT = '/Users/wuchh/Documents/DETOPT-P/sim_results/simNo_1-s_11-m_100-h_40-cna_0.2-cov_100_subsample_5.detopt.tsv'\n",
    "\n",
    "GT = '/Users/wuchh/Documents/DETOPT-P/ground-truth/simNo_1-s_11-m_100-h_40-cna_0.2.tree.tsv'"
   ]
  },
  {
   "cell_type": "code",
   "execution_count": 92,
   "metadata": {},
   "outputs": [],
   "source": [
    "assignments = pd.read_csv(OUT, sep='\\t', header=None)\n",
    "assignments.columns = ['mut','objective','node','CN','node_cn']"
   ]
  },
  {
   "cell_type": "code",
   "execution_count": 93,
   "metadata": {},
   "outputs": [],
   "source": [
    "node_assignments = assignments.set_index('mut')['node'].to_dict()"
   ]
  },
  {
   "cell_type": "code",
   "execution_count": 94,
   "metadata": {},
   "outputs": [
    {
     "data": {
      "text/plain": [
       "{'mut0': 0,\n",
       " 'mut1': 0,\n",
       " 'mut10': 1,\n",
       " 'mut21': 3,\n",
       " 'mut26': 2,\n",
       " 'mut29': 3,\n",
       " 'mut36': 4,\n",
       " 'mut40': 4,\n",
       " 'mut43': 4,\n",
       " 'mut49': 5,\n",
       " 'mut5': 0,\n",
       " 'mut60': 5,\n",
       " 'mut64': 5,\n",
       " 'mut66': 5,\n",
       " 'mut69': 6,\n",
       " 'mut75': 6,\n",
       " 'mut8': 1,\n",
       " 'mut81': 8,\n",
       " 'mut87': 9,\n",
       " 'mut93': 9}"
      ]
     },
     "execution_count": 94,
     "metadata": {},
     "output_type": "execute_result"
    }
   ],
   "source": [
    "node_assignments"
   ]
  },
  {
   "cell_type": "code",
   "execution_count": 95,
   "metadata": {},
   "outputs": [],
   "source": [
    "ground_truth = pd.read_csv(GT, sep='\\t')"
   ]
  },
  {
   "cell_type": "code",
   "execution_count": 96,
   "metadata": {},
   "outputs": [],
   "source": [
    "ground_truth_assignments = {}\n",
    "\n",
    "for _, row in ground_truth.iterrows():\n",
    "\n",
    "    if row['NODE_ID'] == 'ROOT': continue\n",
    "    else:\n",
    "        snvs = row['SNV_IDS'].split(',')\n",
    "\n",
    "        for snv in snvs:\n",
    "            ground_truth_assignments[snv] = row['NODE_ID'] "
   ]
  },
  {
   "cell_type": "code",
   "execution_count": 97,
   "metadata": {},
   "outputs": [
    {
     "name": "stdout",
     "output_type": "stream",
     "text": [
      "mut21 3 2\n",
      "mut49 5 4\n"
     ]
    }
   ],
   "source": [
    "incorrect_assignments = {}\n",
    "\n",
    "for mut, assignment in node_assignments.items():\n",
    "\n",
    "    node_mutations = ground_truth[ground_truth['NODE_ID'] == str(assignment)]['SNV_IDS']\n",
    "    \n",
    "    if mut not in node_mutations.tolist()[0].split(','):\n",
    "        print(mut, assignment, ground_truth_assignments[mut])\n",
    "\n",
    "        incorrect_assignments[mut] = (str(assignment), ground_truth_assignments[mut])"
   ]
  },
  {
   "cell_type": "code",
   "execution_count": 98,
   "metadata": {},
   "outputs": [
    {
     "data": {
      "image/svg+xml": [
       "<?xml version=\"1.0\" encoding=\"UTF-8\" standalone=\"no\"?>\n",
       "<!DOCTYPE svg PUBLIC \"-//W3C//DTD SVG 1.1//EN\"\n",
       " \"http://www.w3.org/Graphics/SVG/1.1/DTD/svg11.dtd\">\n",
       "<!-- Generated by graphviz version 8.1.0 (0)\n",
       " -->\n",
       "<!-- Title: G Pages: 1 -->\n",
       "<svg width=\"119pt\" height=\"339pt\"\n",
       " viewBox=\"0.00 0.00 119.20 339.20\" xmlns=\"http://www.w3.org/2000/svg\" xmlns:xlink=\"http://www.w3.org/1999/xlink\">\n",
       "<g id=\"graph0\" class=\"graph\" transform=\"scale(1 1) rotate(0) translate(4 335.2)\">\n",
       "<title>G</title>\n",
       "<polygon fill=\"white\" stroke=\"none\" points=\"-4,4 -4,-335.2 115.2,-335.2 115.2,4 -4,4\"/>\n",
       "<!-- 0 -->\n",
       "<g id=\"node1\" class=\"node\">\n",
       "<title>0</title>\n",
       "<ellipse fill=\"none\" stroke=\"black\" cx=\"33.6\" cy=\"-318.6\" rx=\"12.6\" ry=\"12.6\"/>\n",
       "<text text-anchor=\"middle\" x=\"33.6\" y=\"-315.54\" font-family=\"Times,serif\" font-size=\"8.75\">0</text>\n",
       "</g>\n",
       "<!-- 1 -->\n",
       "<g id=\"node2\" class=\"node\">\n",
       "<title>1</title>\n",
       "<ellipse fill=\"none\" stroke=\"black\" cx=\"12.6\" cy=\"-257.4\" rx=\"12.6\" ry=\"12.6\"/>\n",
       "<text text-anchor=\"middle\" x=\"12.6\" y=\"-254.34\" font-family=\"Times,serif\" font-size=\"8.75\">1</text>\n",
       "</g>\n",
       "<!-- 0&#45;&gt;1 -->\n",
       "<g id=\"edge1\" class=\"edge\">\n",
       "<title>0&#45;&gt;1</title>\n",
       "<path fill=\"none\" stroke=\"black\" d=\"M29.55,-306.19C26.36,-297.18 21.86,-284.5 18.3,-274.46\"/>\n",
       "<polygon fill=\"black\" stroke=\"black\" points=\"19.29,-274.08 16.64,-270.78 16.65,-275.02 19.29,-274.08\"/>\n",
       "</g>\n",
       "<!-- 2 -->\n",
       "<g id=\"node3\" class=\"node\">\n",
       "<title>2</title>\n",
       "<ellipse fill=\"none\" stroke=\"black\" cx=\"55.6\" cy=\"-257.4\" rx=\"12.6\" ry=\"12.6\"/>\n",
       "<text text-anchor=\"middle\" x=\"55.6\" y=\"-254.34\" font-family=\"Times,serif\" font-size=\"8.75\">2</text>\n",
       "</g>\n",
       "<!-- 0&#45;&gt;2 -->\n",
       "<g id=\"edge2\" class=\"edge\">\n",
       "<title>0&#45;&gt;2</title>\n",
       "<path fill=\"none\" stroke=\"black\" d=\"M37.74,-306.46C41.15,-297.29 46.03,-284.16 49.82,-273.95\"/>\n",
       "<polygon fill=\"black\" stroke=\"black\" points=\"51.4,-274.72 51.48,-270.49 48.77,-273.75 51.4,-274.72\"/>\n",
       "</g>\n",
       "<!-- 6 -->\n",
       "<g id=\"node7\" class=\"node\">\n",
       "<title>6</title>\n",
       "<ellipse fill=\"none\" stroke=\"black\" cx=\"12.6\" cy=\"-196.2\" rx=\"12.6\" ry=\"12.6\"/>\n",
       "<text text-anchor=\"middle\" x=\"12.6\" y=\"-193.14\" font-family=\"Times,serif\" font-size=\"8.75\">6</text>\n",
       "</g>\n",
       "<!-- 1&#45;&gt;6 -->\n",
       "<g id=\"edge6\" class=\"edge\">\n",
       "<title>1&#45;&gt;6</title>\n",
       "<path fill=\"none\" stroke=\"black\" d=\"M12.6,-244.42C12.6,-235.67 12.6,-223.7 12.6,-214\"/>\n",
       "<polygon fill=\"black\" stroke=\"black\" points=\"14,-214.16 12.6,-210.16 11.2,-214.16 14,-214.16\"/>\n",
       "</g>\n",
       "<!-- 3 -->\n",
       "<g id=\"node4\" class=\"node\">\n",
       "<title>3</title>\n",
       "<ellipse fill=\"none\" stroke=\"black\" cx=\"55.6\" cy=\"-196.2\" rx=\"12.6\" ry=\"12.6\"/>\n",
       "<text text-anchor=\"middle\" x=\"55.6\" y=\"-193.14\" font-family=\"Times,serif\" font-size=\"8.75\">3</text>\n",
       "</g>\n",
       "<!-- 2&#45;&gt;3 -->\n",
       "<g id=\"edge3\" class=\"edge\">\n",
       "<title>2&#45;&gt;3</title>\n",
       "<path fill=\"none\" stroke=\"black\" d=\"M55.6,-244.42C55.6,-235.67 55.6,-223.7 55.6,-214\"/>\n",
       "<polygon fill=\"black\" stroke=\"black\" points=\"57,-214.16 55.6,-210.16 54.2,-214.16 57,-214.16\"/>\n",
       "</g>\n",
       "<!-- 7 -->\n",
       "<g id=\"node8\" class=\"node\">\n",
       "<title>7</title>\n",
       "<ellipse fill=\"none\" stroke=\"black\" cx=\"98.6\" cy=\"-196.2\" rx=\"12.6\" ry=\"12.6\"/>\n",
       "<text text-anchor=\"middle\" x=\"98.6\" y=\"-193.14\" font-family=\"Times,serif\" font-size=\"8.75\">7</text>\n",
       "</g>\n",
       "<!-- 2&#45;&gt;7 -->\n",
       "<g id=\"edge7\" class=\"edge\">\n",
       "<title>2&#45;&gt;7</title>\n",
       "<path fill=\"none\" stroke=\"black\" d=\"M62.7,-246.62C69.84,-236.8 80.9,-221.57 88.85,-210.62\"/>\n",
       "<polygon fill=\"black\" stroke=\"black\" points=\"90.41,-211.85 91.63,-207.79 88.15,-210.21 90.41,-211.85\"/>\n",
       "</g>\n",
       "<!-- 4 -->\n",
       "<g id=\"node5\" class=\"node\">\n",
       "<title>4</title>\n",
       "<ellipse fill=\"none\" stroke=\"black\" cx=\"55.6\" cy=\"-135\" rx=\"12.6\" ry=\"12.6\"/>\n",
       "<text text-anchor=\"middle\" x=\"55.6\" y=\"-131.94\" font-family=\"Times,serif\" font-size=\"8.75\">4</text>\n",
       "</g>\n",
       "<!-- 3&#45;&gt;4 -->\n",
       "<g id=\"edge4\" class=\"edge\">\n",
       "<title>3&#45;&gt;4</title>\n",
       "<path fill=\"none\" stroke=\"black\" d=\"M55.6,-183.22C55.6,-174.47 55.6,-162.5 55.6,-152.8\"/>\n",
       "<polygon fill=\"black\" stroke=\"black\" points=\"57,-152.96 55.6,-148.96 54.2,-152.96 57,-152.96\"/>\n",
       "</g>\n",
       "<!-- 5 -->\n",
       "<g id=\"node6\" class=\"node\">\n",
       "<title>5</title>\n",
       "<ellipse fill=\"none\" stroke=\"black\" cx=\"55.6\" cy=\"-73.8\" rx=\"12.6\" ry=\"12.6\"/>\n",
       "<text text-anchor=\"middle\" x=\"55.6\" y=\"-70.74\" font-family=\"Times,serif\" font-size=\"8.75\">5</text>\n",
       "</g>\n",
       "<!-- 4&#45;&gt;5 -->\n",
       "<g id=\"edge5\" class=\"edge\">\n",
       "<title>4&#45;&gt;5</title>\n",
       "<path fill=\"none\" stroke=\"black\" d=\"M55.6,-122.02C55.6,-113.27 55.6,-101.3 55.6,-91.6\"/>\n",
       "<polygon fill=\"black\" stroke=\"black\" points=\"57,-91.76 55.6,-87.76 54.2,-91.76 57,-91.76\"/>\n",
       "</g>\n",
       "<!-- 8 -->\n",
       "<g id=\"node9\" class=\"node\">\n",
       "<title>8</title>\n",
       "<ellipse fill=\"none\" stroke=\"black\" cx=\"34.6\" cy=\"-12.6\" rx=\"12.6\" ry=\"12.6\"/>\n",
       "<text text-anchor=\"middle\" x=\"34.6\" y=\"-9.54\" font-family=\"Times,serif\" font-size=\"8.75\">8</text>\n",
       "</g>\n",
       "<!-- 5&#45;&gt;8 -->\n",
       "<g id=\"edge8\" class=\"edge\">\n",
       "<title>5&#45;&gt;8</title>\n",
       "<path fill=\"none\" stroke=\"black\" d=\"M51.55,-61.39C48.36,-52.38 43.86,-39.7 40.3,-29.66\"/>\n",
       "<polygon fill=\"black\" stroke=\"black\" points=\"41.29,-29.28 38.64,-25.98 38.65,-30.22 41.29,-29.28\"/>\n",
       "</g>\n",
       "<!-- 9 -->\n",
       "<g id=\"node10\" class=\"node\">\n",
       "<title>9</title>\n",
       "<ellipse fill=\"none\" stroke=\"black\" cx=\"77.6\" cy=\"-12.6\" rx=\"12.6\" ry=\"12.6\"/>\n",
       "<text text-anchor=\"middle\" x=\"77.6\" y=\"-9.54\" font-family=\"Times,serif\" font-size=\"8.75\">9</text>\n",
       "</g>\n",
       "<!-- 5&#45;&gt;9 -->\n",
       "<g id=\"edge9\" class=\"edge\">\n",
       "<title>5&#45;&gt;9</title>\n",
       "<path fill=\"none\" stroke=\"black\" d=\"M59.74,-61.66C63.15,-52.49 68.03,-39.36 71.82,-29.15\"/>\n",
       "<polygon fill=\"black\" stroke=\"black\" points=\"73.4,-29.92 73.48,-25.69 70.77,-28.95 73.4,-29.92\"/>\n",
       "</g>\n",
       "</g>\n",
       "</svg>\n"
      ],
      "text/plain": [
       "<graphviz.graphs.Digraph at 0x17fb4fee0>"
      ]
     },
     "execution_count": 98,
     "metadata": {},
     "output_type": "execute_result"
    }
   ],
   "source": [
    "tree_dict = ground_truth.set_index('NODE_ID')['PARENT_ID'].to_dict()\n",
    "del tree_dict['ROOT']\n",
    "del tree_dict['0']\n",
    "graph = create_graph_from_dict(tree_dict, '')\n",
    "\n",
    "graph"
   ]
  },
  {
   "cell_type": "code",
   "execution_count": 99,
   "metadata": {},
   "outputs": [
    {
     "ename": "AttributeError",
     "evalue": "'Digraph' object has no attribute 'add_nodes_from'",
     "output_type": "error",
     "traceback": [
      "\u001b[0;31m---------------------------------------------------------------------------\u001b[0m",
      "\u001b[0;31mAttributeError\u001b[0m                            Traceback (most recent call last)",
      "Cell \u001b[0;32mIn[99], line 1\u001b[0m\n\u001b[0;32m----> 1\u001b[0m G_renamed \u001b[38;5;241m=\u001b[39m \u001b[43mnx\u001b[49m\u001b[38;5;241;43m.\u001b[39;49m\u001b[43mrelabel_nodes\u001b[49m\u001b[43m(\u001b[49m\u001b[43mgraph\u001b[49m\u001b[43m,\u001b[49m\u001b[43m \u001b[49m\u001b[43m{\u001b[49m\u001b[38;5;124;43m'\u001b[39;49m\u001b[38;5;124;43m2\u001b[39;49m\u001b[38;5;124;43m'\u001b[39;49m\u001b[43m:\u001b[49m\u001b[38;5;124;43m'\u001b[39;49m\u001b[38;5;124;43m3\u001b[39;49m\u001b[38;5;124;43m'\u001b[39;49m\u001b[43m,\u001b[49m\u001b[43m \u001b[49m\u001b[38;5;124;43m'\u001b[39;49m\u001b[38;5;124;43m3\u001b[39;49m\u001b[38;5;124;43m'\u001b[39;49m\u001b[43m:\u001b[49m\u001b[38;5;124;43m'\u001b[39;49m\u001b[38;5;124;43m2\u001b[39;49m\u001b[38;5;124;43m'\u001b[39;49m\u001b[43m}\u001b[49m\u001b[43m)\u001b[49m\n\u001b[1;32m      3\u001b[0m pos \u001b[38;5;241m=\u001b[39m nx\u001b[38;5;241m.\u001b[39mspring_layout(G_renamed)\n\u001b[1;32m      4\u001b[0m full \u001b[38;5;241m=\u001b[39m create_undirected_graph(G_renamed, pos)\n",
      "File \u001b[0;32m~/mambaforge/envs/detopt/lib/python3.10/site-packages/networkx/relabel.py:122\u001b[0m, in \u001b[0;36mrelabel_nodes\u001b[0;34m(G, mapping, copy)\u001b[0m\n\u001b[1;32m    119\u001b[0m m \u001b[38;5;241m=\u001b[39m {n: mapping(n) \u001b[38;5;28;01mfor\u001b[39;00m n \u001b[38;5;129;01min\u001b[39;00m G} \u001b[38;5;28;01mif\u001b[39;00m \u001b[38;5;28mcallable\u001b[39m(mapping) \u001b[38;5;28;01melse\u001b[39;00m mapping\n\u001b[1;32m    121\u001b[0m \u001b[38;5;28;01mif\u001b[39;00m copy:\n\u001b[0;32m--> 122\u001b[0m     \u001b[38;5;28;01mreturn\u001b[39;00m \u001b[43m_relabel_copy\u001b[49m\u001b[43m(\u001b[49m\u001b[43mG\u001b[49m\u001b[43m,\u001b[49m\u001b[43m \u001b[49m\u001b[43mm\u001b[49m\u001b[43m)\u001b[49m\n\u001b[1;32m    123\u001b[0m \u001b[38;5;28;01melse\u001b[39;00m:\n\u001b[1;32m    124\u001b[0m     \u001b[38;5;28;01mreturn\u001b[39;00m _relabel_inplace(G, m)\n",
      "File \u001b[0;32m~/mambaforge/envs/detopt/lib/python3.10/site-packages/networkx/relabel.py:192\u001b[0m, in \u001b[0;36m_relabel_copy\u001b[0;34m(G, mapping)\u001b[0m\n\u001b[1;32m    190\u001b[0m \u001b[38;5;28;01mdef\u001b[39;00m \u001b[38;5;21m_relabel_copy\u001b[39m(G, mapping):\n\u001b[1;32m    191\u001b[0m     H \u001b[38;5;241m=\u001b[39m G\u001b[38;5;241m.\u001b[39m\u001b[38;5;18m__class__\u001b[39m()\n\u001b[0;32m--> 192\u001b[0m     \u001b[43mH\u001b[49m\u001b[38;5;241;43m.\u001b[39;49m\u001b[43madd_nodes_from\u001b[49m(mapping\u001b[38;5;241m.\u001b[39mget(n, n) \u001b[38;5;28;01mfor\u001b[39;00m n \u001b[38;5;129;01min\u001b[39;00m G)\n\u001b[1;32m    193\u001b[0m     H\u001b[38;5;241m.\u001b[39m_node\u001b[38;5;241m.\u001b[39mupdate((mapping\u001b[38;5;241m.\u001b[39mget(n, n), d\u001b[38;5;241m.\u001b[39mcopy()) \u001b[38;5;28;01mfor\u001b[39;00m n, d \u001b[38;5;129;01min\u001b[39;00m G\u001b[38;5;241m.\u001b[39mnodes\u001b[38;5;241m.\u001b[39mitems())\n\u001b[1;32m    194\u001b[0m     \u001b[38;5;28;01mif\u001b[39;00m G\u001b[38;5;241m.\u001b[39mis_multigraph():\n",
      "\u001b[0;31mAttributeError\u001b[0m: 'Digraph' object has no attribute 'add_nodes_from'"
     ]
    }
   ],
   "source": [
    "G_renamed = nx.relabel_nodes(graph, {'2':'3', '3':'2'})\n",
    "\n",
    "pos = nx.spring_layout(G_renamed)\n",
    "full = create_undirected_graph(G_renamed, pos)"
   ]
  },
  {
   "cell_type": "code",
   "execution_count": 88,
   "metadata": {},
   "outputs": [
    {
     "data": {
      "text/plain": [
       "{'1': '0',\n",
       " '2': '0',\n",
       " '3': '2',\n",
       " '4': '3',\n",
       " '5': '4',\n",
       " '6': '1',\n",
       " '7': '2',\n",
       " '8': '5',\n",
       " '9': '5'}"
      ]
     },
     "execution_count": 88,
     "metadata": {},
     "output_type": "execute_result"
    }
   ],
   "source": [
    "tree_dict"
   ]
  },
  {
   "cell_type": "code",
   "execution_count": 89,
   "metadata": {},
   "outputs": [],
   "source": [
    "def swap(tree_dict, a, b):\n",
    "\n",
    "    if tree_dict[a] == b:\n",
    "        tree_dict[a] = 1\n",
    "\n",
    "\n",
    "    # Assuming One isn't the parent of the other\n",
    "    a_parent = tree_dict[a]\n",
    "    b_parent = tree_dict[b]\n",
    "\n",
    "    # Swap the parents\n",
    "    tree_dict[a] = b_parent\n",
    "    tree_dict[b] = a_parent\n",
    "\n",
    "    # Go over all the nodes and if it's a parent of one set it to the other\n",
    "    for k, v in tree_dict.items():\n",
    "        if v == a:\n",
    "            tree_dict[k] = b\n",
    "        elif v == b:\n",
    "            tree_dict[k] = a\n",
    "\n",
    "    return tree_dict\n",
    "\n"
   ]
  },
  {
   "cell_type": "code",
   "execution_count": 84,
   "metadata": {},
   "outputs": [
    {
     "name": "stdout",
     "output_type": "stream",
     "text": [
      "mut21\n"
     ]
    }
   ],
   "source": [
    "for mut in incorrect_assignments.keys():\n",
    "\n",
    "    print(mut)\n",
    "\n",
    "    inferred, true = incorrect_assignments[mut]\n",
    "\n",
    "    inferred\n",
    "    break"
   ]
  },
  {
   "cell_type": "code",
   "execution_count": 87,
   "metadata": {},
   "outputs": [
    {
     "data": {
      "text/plain": [
       "'0'"
      ]
     },
     "execution_count": 87,
     "metadata": {},
     "output_type": "execute_result"
    }
   ],
   "source": [
    "hold = tree_dict[inferred]\n",
    "\n",
    "tree_dict[inferred] = tree_dict[true]"
   ]
  },
  {
   "cell_type": "code",
   "execution_count": null,
   "metadata": {},
   "outputs": [],
   "source": []
  },
  {
   "cell_type": "code",
   "execution_count": null,
   "metadata": {},
   "outputs": [],
   "source": []
  }
 ],
 "metadata": {
  "kernelspec": {
   "display_name": "detopt",
   "language": "python",
   "name": "python3"
  },
  "language_info": {
   "codemirror_mode": {
    "name": "ipython",
    "version": 3
   },
   "file_extension": ".py",
   "mimetype": "text/x-python",
   "name": "python",
   "nbconvert_exporter": "python",
   "pygments_lexer": "ipython3",
   "version": "3.10.12"
  }
 },
 "nbformat": 4,
 "nbformat_minor": 2
}
